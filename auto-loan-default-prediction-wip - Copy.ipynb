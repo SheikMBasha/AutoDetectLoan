{
 "cells": [
  {
   "cell_type": "markdown",
   "id": "painted-boutique",
   "metadata": {
    "papermill": {
     "duration": 0.032233,
     "end_time": "2021-11-07T18:04:15.634543",
     "exception": false,
     "start_time": "2021-11-07T18:04:15.602310",
     "status": "completed"
    },
    "tags": []
   },
   "source": [
    "## 1. Import the necessary libraries\n",
    "\n"
   ]
  },
  {
   "cell_type": "code",
   "execution_count": 1,
   "id": "thirty-squad",
   "metadata": {
    "execution": {
     "iopub.execute_input": "2021-11-07T18:04:15.698956Z",
     "iopub.status.busy": "2021-11-07T18:04:15.697814Z",
     "iopub.status.idle": "2021-11-07T18:04:19.938925Z",
     "shell.execute_reply": "2021-11-07T18:04:19.939456Z",
     "shell.execute_reply.started": "2021-11-07T14:56:29.342958Z"
    },
    "papermill": {
     "duration": 4.275065,
     "end_time": "2021-11-07T18:04:19.939768",
     "exception": false,
     "start_time": "2021-11-07T18:04:15.664703",
     "status": "completed"
    },
    "tags": []
   },
   "outputs": [
    {
     "data": {
      "text/html": [
       "        <script type=\"text/javascript\">\n",
       "        window.PlotlyConfig = {MathJaxConfig: 'local'};\n",
       "        if (window.MathJax) {MathJax.Hub.Config({SVG: {font: \"STIX-Web\"}});}\n",
       "        if (typeof require !== 'undefined') {\n",
       "        require.undef(\"plotly\");\n",
       "        requirejs.config({\n",
       "            paths: {\n",
       "                'plotly': ['https://cdn.plot.ly/plotly-latest.min']\n",
       "            }\n",
       "        });\n",
       "        require(['plotly'], function(Plotly) {\n",
       "            window._Plotly = Plotly;\n",
       "        });\n",
       "        }\n",
       "        </script>\n",
       "        "
      ]
     },
     "metadata": {},
     "output_type": "display_data"
    }
   ],
   "source": [
    "import numpy as np\n",
    "import pandas as pd\n",
    "from numpy import mean\n",
    "from numpy import std\n",
    "\n",
    "import matplotlib.pyplot as plt\n",
    "%matplotlib inline\n",
    "import seaborn as sns\n",
    "plt.style.use('ggplot')\n",
    "from plotly import tools\n",
    "import plotly.offline as py\n",
    "import plotly.figure_factory as ff\n",
    "py.init_notebook_mode(connected=True)\n",
    "import plotly.graph_objs as go\n",
    "import plotly.express as px\n",
    "from plotly.subplots import make_subplots\n",
    "\n",
    "\n",
    "\n",
    "from scipy.stats import norm\n",
    "from sklearn.preprocessing import StandardScaler\n",
    "from scipy import stats\n",
    "\n",
    "import warnings\n",
    "warnings.filterwarnings('ignore')\n",
    "\n",
    "#for displaying 500 results in pandas dataframe\n",
    "pd.set_option('display.max_rows', 500)\n",
    "pd.set_option('display.max_columns', 500)\n",
    "pd.set_option('display.width', 1000)\n",
    "\n",
    "import itertools\n",
    "import xgboost as xgb\n",
    "from sklearn.linear_model import LogisticRegression\n",
    "from sklearn.ensemble import RandomForestClassifier, VotingClassifier\n",
    "from sklearn.model_selection import StratifiedKFold\n",
    "from sklearn.metrics import precision_score, recall_score, confusion_matrix, classification_report, roc_curve, precision_recall_curve\n",
    "import warnings\n",
    "#https://www.kaggle.com/datatattle/predicting-loan-default-classification"
   ]
  },
  {
   "cell_type": "markdown",
   "id": "emerging-married",
   "metadata": {
    "papermill": {
     "duration": 0.030489,
     "end_time": "2021-11-07T18:04:20.001185",
     "exception": false,
     "start_time": "2021-11-07T18:04:19.970696",
     "status": "completed"
    },
    "tags": []
   },
   "source": [
    "## 2. Read in the train and test data"
   ]
  },
  {
   "cell_type": "code",
   "execution_count": 2,
   "id": "competitive-birmingham",
   "metadata": {
    "execution": {
     "iopub.execute_input": "2021-11-07T18:04:20.067184Z",
     "iopub.status.busy": "2021-11-07T18:04:20.066498Z",
     "iopub.status.idle": "2021-11-07T18:04:22.120145Z",
     "shell.execute_reply": "2021-11-07T18:04:22.119557Z",
     "shell.execute_reply.started": "2021-11-07T14:56:33.733540Z"
    },
    "papermill": {
     "duration": 2.087893,
     "end_time": "2021-11-07T18:04:22.120288",
     "exception": false,
     "start_time": "2021-11-07T18:04:20.032395",
     "status": "completed"
    },
    "tags": []
   },
   "outputs": [],
   "source": [
    "train = pd.read_csv(\"../input/dish-network-hackathon/Train_Dataset.csv\", \n",
    "                    low_memory=False)\n",
    "        \n",
    "test = pd.read_csv(\"../input/dish-network-hackathon/Test_Dataset.csv\",\n",
    "                  low_memory=False)"
   ]
  },
  {
   "cell_type": "code",
   "execution_count": 3,
   "id": "above-beijing",
   "metadata": {
    "execution": {
     "iopub.execute_input": "2021-11-07T18:04:22.197860Z",
     "iopub.status.busy": "2021-11-07T18:04:22.197161Z",
     "iopub.status.idle": "2021-11-07T18:04:23.000328Z",
     "shell.execute_reply": "2021-11-07T18:04:23.000850Z",
     "shell.execute_reply.started": "2021-11-07T14:56:36.291947Z"
    },
    "papermill": {
     "duration": 0.849835,
     "end_time": "2021-11-07T18:04:23.001043",
     "exception": false,
     "start_time": "2021-11-07T18:04:22.151208",
     "status": "completed"
    },
    "tags": []
   },
   "outputs": [
    {
     "name": "stdout",
     "output_type": "stream",
     "text": [
      " Shape of training dataframe:  (121856, 40)\n",
      " Shape of testing dataframe:  (80900, 39)\n",
      "(121856, 40)\n",
      "(80900, 39)\n"
     ]
    }
   ],
   "source": [
    "#Shape of dataframe\n",
    "print(\" Shape of training dataframe: \", train.shape)\n",
    "print(\" Shape of testing dataframe: \", test.shape)\n",
    "\n",
    "# Drop duplicates\n",
    "train.drop_duplicates()\n",
    "test.drop_duplicates()\n",
    "print(train.shape)\n",
    "print(test.shape)"
   ]
  },
  {
   "cell_type": "markdown",
   "id": "broad-breakfast",
   "metadata": {
    "papermill": {
     "duration": 0.030742,
     "end_time": "2021-11-07T18:04:23.063813",
     "exception": false,
     "start_time": "2021-11-07T18:04:23.033071",
     "status": "completed"
    },
    "tags": []
   },
   "source": [
    "## 3. Check some sample rows"
   ]
  },
  {
   "cell_type": "markdown",
   "id": "unavailable-billy",
   "metadata": {
    "papermill": {
     "duration": 0.030935,
     "end_time": "2021-11-07T18:04:23.126582",
     "exception": false,
     "start_time": "2021-11-07T18:04:23.095647",
     "status": "completed"
    },
    "tags": []
   },
   "source": []
  },
  {
   "cell_type": "code",
   "execution_count": 4,
   "id": "delayed-madison",
   "metadata": {
    "execution": {
     "iopub.execute_input": "2021-11-07T18:04:23.196696Z",
     "iopub.status.busy": "2021-11-07T18:04:23.195736Z",
     "iopub.status.idle": "2021-11-07T18:04:23.243459Z",
     "shell.execute_reply": "2021-11-07T18:04:23.242881Z",
     "shell.execute_reply.started": "2021-11-07T14:56:37.181171Z"
    },
    "papermill": {
     "duration": 0.085761,
     "end_time": "2021-11-07T18:04:23.243609",
     "exception": false,
     "start_time": "2021-11-07T18:04:23.157848",
     "status": "completed"
    },
    "tags": []
   },
   "outputs": [
    {
     "data": {
      "text/html": [
       "<div>\n",
       "<style scoped>\n",
       "    .dataframe tbody tr th:only-of-type {\n",
       "        vertical-align: middle;\n",
       "    }\n",
       "\n",
       "    .dataframe tbody tr th {\n",
       "        vertical-align: top;\n",
       "    }\n",
       "\n",
       "    .dataframe thead th {\n",
       "        text-align: right;\n",
       "    }\n",
       "</style>\n",
       "<table border=\"1\" class=\"dataframe\">\n",
       "  <thead>\n",
       "    <tr style=\"text-align: right;\">\n",
       "      <th></th>\n",
       "      <th>ID</th>\n",
       "      <th>Client_Income</th>\n",
       "      <th>Car_Owned</th>\n",
       "      <th>Bike_Owned</th>\n",
       "      <th>Active_Loan</th>\n",
       "      <th>House_Own</th>\n",
       "      <th>Child_Count</th>\n",
       "      <th>Credit_Amount</th>\n",
       "      <th>Loan_Annuity</th>\n",
       "      <th>Accompany_Client</th>\n",
       "      <th>Client_Income_Type</th>\n",
       "      <th>Client_Education</th>\n",
       "      <th>Client_Marital_Status</th>\n",
       "      <th>Client_Gender</th>\n",
       "      <th>Loan_Contract_Type</th>\n",
       "      <th>Client_Housing_Type</th>\n",
       "      <th>Population_Region_Relative</th>\n",
       "      <th>Age_Days</th>\n",
       "      <th>Employed_Days</th>\n",
       "      <th>Registration_Days</th>\n",
       "      <th>ID_Days</th>\n",
       "      <th>Own_House_Age</th>\n",
       "      <th>Mobile_Tag</th>\n",
       "      <th>Homephone_Tag</th>\n",
       "      <th>Workphone_Working</th>\n",
       "      <th>Client_Occupation</th>\n",
       "      <th>Client_Family_Members</th>\n",
       "      <th>Cleint_City_Rating</th>\n",
       "      <th>Application_Process_Day</th>\n",
       "      <th>Application_Process_Hour</th>\n",
       "      <th>Client_Permanent_Match_Tag</th>\n",
       "      <th>Client_Contact_Work_Tag</th>\n",
       "      <th>Type_Organization</th>\n",
       "      <th>Score_Source_1</th>\n",
       "      <th>Score_Source_2</th>\n",
       "      <th>Score_Source_3</th>\n",
       "      <th>Social_Circle_Default</th>\n",
       "      <th>Phone_Change</th>\n",
       "      <th>Credit_Bureau</th>\n",
       "      <th>Default</th>\n",
       "    </tr>\n",
       "  </thead>\n",
       "  <tbody>\n",
       "    <tr>\n",
       "      <th>0</th>\n",
       "      <td>12142509</td>\n",
       "      <td>6750</td>\n",
       "      <td>0.0</td>\n",
       "      <td>0.0</td>\n",
       "      <td>1.0</td>\n",
       "      <td>0.0</td>\n",
       "      <td>0.0</td>\n",
       "      <td>61190.55</td>\n",
       "      <td>3416.85</td>\n",
       "      <td>Alone</td>\n",
       "      <td>Commercial</td>\n",
       "      <td>Secondary</td>\n",
       "      <td>M</td>\n",
       "      <td>Male</td>\n",
       "      <td>CL</td>\n",
       "      <td>Home</td>\n",
       "      <td>0.028663</td>\n",
       "      <td>13957</td>\n",
       "      <td>1062</td>\n",
       "      <td>6123</td>\n",
       "      <td>383</td>\n",
       "      <td>NaN</td>\n",
       "      <td>1</td>\n",
       "      <td>1</td>\n",
       "      <td>0</td>\n",
       "      <td>Sales</td>\n",
       "      <td>2.0</td>\n",
       "      <td>2.0</td>\n",
       "      <td>6.0</td>\n",
       "      <td>17.0</td>\n",
       "      <td>Yes</td>\n",
       "      <td>Yes</td>\n",
       "      <td>Self-employed</td>\n",
       "      <td>0.568066</td>\n",
       "      <td>0.478787</td>\n",
       "      <td>NaN</td>\n",
       "      <td>0.0186</td>\n",
       "      <td>63.0</td>\n",
       "      <td>NaN</td>\n",
       "      <td>0</td>\n",
       "    </tr>\n",
       "    <tr>\n",
       "      <th>1</th>\n",
       "      <td>12138936</td>\n",
       "      <td>20250</td>\n",
       "      <td>1.0</td>\n",
       "      <td>0.0</td>\n",
       "      <td>1.0</td>\n",
       "      <td>NaN</td>\n",
       "      <td>0.0</td>\n",
       "      <td>15282</td>\n",
       "      <td>1826.55</td>\n",
       "      <td>Alone</td>\n",
       "      <td>Service</td>\n",
       "      <td>Graduation</td>\n",
       "      <td>M</td>\n",
       "      <td>Male</td>\n",
       "      <td>CL</td>\n",
       "      <td>Home</td>\n",
       "      <td>0.008575</td>\n",
       "      <td>14162</td>\n",
       "      <td>4129</td>\n",
       "      <td>7833</td>\n",
       "      <td>21</td>\n",
       "      <td>0.0</td>\n",
       "      <td>1</td>\n",
       "      <td>0</td>\n",
       "      <td>1</td>\n",
       "      <td>NaN</td>\n",
       "      <td>2.0</td>\n",
       "      <td>2.0</td>\n",
       "      <td>3.0</td>\n",
       "      <td>10.0</td>\n",
       "      <td>Yes</td>\n",
       "      <td>Yes</td>\n",
       "      <td>Government</td>\n",
       "      <td>0.563360</td>\n",
       "      <td>0.215068</td>\n",
       "      <td>NaN</td>\n",
       "      <td>NaN</td>\n",
       "      <td>NaN</td>\n",
       "      <td>NaN</td>\n",
       "      <td>0</td>\n",
       "    </tr>\n",
       "    <tr>\n",
       "      <th>2</th>\n",
       "      <td>12181264</td>\n",
       "      <td>18000</td>\n",
       "      <td>0.0</td>\n",
       "      <td>0.0</td>\n",
       "      <td>1.0</td>\n",
       "      <td>0.0</td>\n",
       "      <td>1.0</td>\n",
       "      <td>59527.35</td>\n",
       "      <td>2788.2</td>\n",
       "      <td>Alone</td>\n",
       "      <td>Service</td>\n",
       "      <td>Graduation dropout</td>\n",
       "      <td>W</td>\n",
       "      <td>Male</td>\n",
       "      <td>CL</td>\n",
       "      <td>Family</td>\n",
       "      <td>0.0228</td>\n",
       "      <td>16790</td>\n",
       "      <td>5102</td>\n",
       "      <td>NaN</td>\n",
       "      <td>331</td>\n",
       "      <td>NaN</td>\n",
       "      <td>1</td>\n",
       "      <td>0</td>\n",
       "      <td>0</td>\n",
       "      <td>Realty agents</td>\n",
       "      <td>2.0</td>\n",
       "      <td>2.0</td>\n",
       "      <td>4.0</td>\n",
       "      <td>NaN</td>\n",
       "      <td>Yes</td>\n",
       "      <td>Yes</td>\n",
       "      <td>Self-employed</td>\n",
       "      <td>NaN</td>\n",
       "      <td>0.552795</td>\n",
       "      <td>0.329655054</td>\n",
       "      <td>0.0742</td>\n",
       "      <td>277.0</td>\n",
       "      <td>0.0</td>\n",
       "      <td>0</td>\n",
       "    </tr>\n",
       "    <tr>\n",
       "      <th>3</th>\n",
       "      <td>12188929</td>\n",
       "      <td>15750</td>\n",
       "      <td>0.0</td>\n",
       "      <td>0.0</td>\n",
       "      <td>1.0</td>\n",
       "      <td>1.0</td>\n",
       "      <td>0.0</td>\n",
       "      <td>53870.4</td>\n",
       "      <td>2295.45</td>\n",
       "      <td>Alone</td>\n",
       "      <td>Retired</td>\n",
       "      <td>Secondary</td>\n",
       "      <td>M</td>\n",
       "      <td>Male</td>\n",
       "      <td>CL</td>\n",
       "      <td>Home</td>\n",
       "      <td>0.010556</td>\n",
       "      <td>23195</td>\n",
       "      <td>365243</td>\n",
       "      <td>NaN</td>\n",
       "      <td>775</td>\n",
       "      <td>NaN</td>\n",
       "      <td>1</td>\n",
       "      <td>0</td>\n",
       "      <td>0</td>\n",
       "      <td>NaN</td>\n",
       "      <td>2.0</td>\n",
       "      <td>3.0</td>\n",
       "      <td>2.0</td>\n",
       "      <td>15.0</td>\n",
       "      <td>Yes</td>\n",
       "      <td>Yes</td>\n",
       "      <td>XNA</td>\n",
       "      <td>NaN</td>\n",
       "      <td>0.135182</td>\n",
       "      <td>0.631354537</td>\n",
       "      <td>NaN</td>\n",
       "      <td>1700.0</td>\n",
       "      <td>3.0</td>\n",
       "      <td>0</td>\n",
       "    </tr>\n",
       "    <tr>\n",
       "      <th>4</th>\n",
       "      <td>12133385</td>\n",
       "      <td>33750</td>\n",
       "      <td>1.0</td>\n",
       "      <td>0.0</td>\n",
       "      <td>1.0</td>\n",
       "      <td>0.0</td>\n",
       "      <td>2.0</td>\n",
       "      <td>133988.4</td>\n",
       "      <td>3547.35</td>\n",
       "      <td>Alone</td>\n",
       "      <td>Commercial</td>\n",
       "      <td>Secondary</td>\n",
       "      <td>M</td>\n",
       "      <td>Female</td>\n",
       "      <td>CL</td>\n",
       "      <td>Home</td>\n",
       "      <td>0.020713</td>\n",
       "      <td>11366</td>\n",
       "      <td>2977</td>\n",
       "      <td>5516</td>\n",
       "      <td>4043</td>\n",
       "      <td>6.0</td>\n",
       "      <td>1</td>\n",
       "      <td>0</td>\n",
       "      <td>0</td>\n",
       "      <td>Laborers</td>\n",
       "      <td>4.0</td>\n",
       "      <td>1.0</td>\n",
       "      <td>3.0</td>\n",
       "      <td>NaN</td>\n",
       "      <td>Yes</td>\n",
       "      <td>Yes</td>\n",
       "      <td>Business Entity Type 3</td>\n",
       "      <td>0.508199</td>\n",
       "      <td>0.301182</td>\n",
       "      <td>0.355638717</td>\n",
       "      <td>0.2021</td>\n",
       "      <td>674.0</td>\n",
       "      <td>1.0</td>\n",
       "      <td>0</td>\n",
       "    </tr>\n",
       "  </tbody>\n",
       "</table>\n",
       "</div>"
      ],
      "text/plain": [
       "         ID Client_Income  Car_Owned  Bike_Owned  Active_Loan  House_Own  Child_Count Credit_Amount Loan_Annuity Accompany_Client Client_Income_Type    Client_Education Client_Marital_Status Client_Gender Loan_Contract_Type Client_Housing_Type Population_Region_Relative Age_Days Employed_Days Registration_Days ID_Days  Own_House_Age  Mobile_Tag  Homephone_Tag  Workphone_Working Client_Occupation  Client_Family_Members  Cleint_City_Rating  Application_Process_Day  Application_Process_Hour Client_Permanent_Match_Tag Client_Contact_Work_Tag       Type_Organization  Score_Source_1  Score_Source_2 Score_Source_3  Social_Circle_Default  Phone_Change  Credit_Bureau  Default\n",
       "0  12142509          6750        0.0         0.0          1.0        0.0          0.0      61190.55      3416.85            Alone         Commercial           Secondary                     M          Male                 CL                Home                   0.028663    13957          1062              6123     383            NaN           1              1                  0             Sales                    2.0                 2.0                      6.0                      17.0                        Yes                     Yes           Self-employed        0.568066        0.478787            NaN                 0.0186          63.0            NaN        0\n",
       "1  12138936         20250        1.0         0.0          1.0        NaN          0.0         15282      1826.55            Alone            Service          Graduation                     M          Male                 CL                Home                   0.008575    14162          4129              7833      21            0.0           1              0                  1               NaN                    2.0                 2.0                      3.0                      10.0                        Yes                     Yes              Government        0.563360        0.215068            NaN                    NaN           NaN            NaN        0\n",
       "2  12181264         18000        0.0         0.0          1.0        0.0          1.0      59527.35       2788.2            Alone            Service  Graduation dropout                     W          Male                 CL              Family                     0.0228    16790          5102               NaN     331            NaN           1              0                  0     Realty agents                    2.0                 2.0                      4.0                       NaN                        Yes                     Yes           Self-employed             NaN        0.552795    0.329655054                 0.0742         277.0            0.0        0\n",
       "3  12188929         15750        0.0         0.0          1.0        1.0          0.0       53870.4      2295.45            Alone            Retired           Secondary                     M          Male                 CL                Home                   0.010556    23195        365243               NaN     775            NaN           1              0                  0               NaN                    2.0                 3.0                      2.0                      15.0                        Yes                     Yes                     XNA             NaN        0.135182    0.631354537                    NaN        1700.0            3.0        0\n",
       "4  12133385         33750        1.0         0.0          1.0        0.0          2.0      133988.4      3547.35            Alone         Commercial           Secondary                     M        Female                 CL                Home                   0.020713    11366          2977              5516    4043            6.0           1              0                  0          Laborers                    4.0                 1.0                      3.0                       NaN                        Yes                     Yes  Business Entity Type 3        0.508199        0.301182    0.355638717                 0.2021         674.0            1.0        0"
      ]
     },
     "execution_count": 4,
     "metadata": {},
     "output_type": "execute_result"
    }
   ],
   "source": [
    "train.head()"
   ]
  },
  {
   "cell_type": "markdown",
   "id": "lasting-ideal",
   "metadata": {
    "papermill": {
     "duration": 0.03209,
     "end_time": "2021-11-07T18:04:23.308080",
     "exception": false,
     "start_time": "2021-11-07T18:04:23.275990",
     "status": "completed"
    },
    "tags": []
   },
   "source": [
    "#### There are lot of NAN values, so we would need to impute those before modeling\n",
    "#### Let us see the total NAN values for each variable in the dataset"
   ]
  },
  {
   "cell_type": "code",
   "execution_count": 5,
   "id": "interstate-spank",
   "metadata": {
    "execution": {
     "iopub.execute_input": "2021-11-07T18:04:23.376081Z",
     "iopub.status.busy": "2021-11-07T18:04:23.375372Z",
     "iopub.status.idle": "2021-11-07T18:04:23.879220Z",
     "shell.execute_reply": "2021-11-07T18:04:23.878661Z",
     "shell.execute_reply.started": "2021-11-07T14:56:37.238597Z"
    },
    "papermill": {
     "duration": 0.538525,
     "end_time": "2021-11-07T18:04:23.879358",
     "exception": false,
     "start_time": "2021-11-07T18:04:23.340833",
     "status": "completed"
    },
    "tags": []
   },
   "outputs": [
    {
     "name": "stdout",
     "output_type": "stream",
     "text": [
      "Null Values in each column:\n",
      "                    column name  Total missing  Percent missing\n",
      "0                Own_House_Age          80095         0.657292\n",
      "1               Score_Source_1          68835         0.564888\n",
      "2        Social_Circle_Default          61928         0.508206\n",
      "3            Client_Occupation          41435         0.340032\n",
      "4               Score_Source_3          26921         0.220925\n",
      "5                Credit_Bureau          18540         0.152147\n",
      "6                      ID_Days           5968         0.048976\n",
      "7               Score_Source_2           5686         0.046662\n",
      "8   Population_Region_Relative           4857         0.039859\n",
      "9                 Loan_Annuity           4812         0.039489\n",
      "10          Client_Income_Type           3701         0.030372\n",
      "11         Client_Housing_Type           3687         0.030257\n",
      "12                Phone_Change           3664         0.030068\n",
      "13    Application_Process_Hour           3663         0.030060\n",
      "14                   House_Own           3661         0.030044\n",
      "15          Loan_Contract_Type           3651         0.029962\n",
      "16               Employed_Days           3649         0.029945\n",
      "17            Client_Education           3645         0.029912\n",
      "18                 Child_Count           3638         0.029855\n",
      "19                 Active_Loan           3635         0.029830\n",
      "20               Credit_Amount           3632         0.029806\n",
      "21                  Bike_Owned           3624         0.029740\n",
      "22           Registration_Days           3614         0.029658\n",
      "23           Type_Organization           3609         0.029617\n",
      "24               Client_Income           3607         0.029601\n",
      "25                    Age_Days           3600         0.029543\n",
      "26                   Car_Owned           3581         0.029387\n",
      "27       Client_Marital_Status           3473         0.028501\n",
      "28     Application_Process_Day           2428         0.019925\n",
      "29               Client_Gender           2413         0.019802\n",
      "30       Client_Family_Members           2410         0.019777\n",
      "31          Cleint_City_Rating           2409         0.019769\n",
      "32            Accompany_Client           1746         0.014328\n",
      "33                          ID              0         0.000000\n",
      "34     Client_Contact_Work_Tag              0         0.000000\n",
      "35  Client_Permanent_Match_Tag              0         0.000000\n",
      "36           Workphone_Working              0         0.000000\n",
      "37               Homephone_Tag              0         0.000000\n",
      "38                  Mobile_Tag              0         0.000000\n",
      "39                     Default              0         0.000000\n"
     ]
    }
   ],
   "source": [
    "\n",
    "null= train.isnull().sum().sort_values(ascending=False)\n",
    "total =train.shape[0]\n",
    "percent_missing= (train.isnull().sum()/total).sort_values(ascending=False)\n",
    "\n",
    "missing_data= pd.concat([null, percent_missing], axis=1, \n",
    "                        keys=['Total missing', 'Percent missing'])\n",
    "\n",
    "missing_data.reset_index(inplace=True)\n",
    "missing_data= missing_data.rename(columns= { \"index\": \" column name\"})\n",
    " \n",
    "print (\"Null Values in each column:\\n\", \n",
    "       missing_data.sort_values(by ='Total missing', ascending = False))"
   ]
  },
  {
   "cell_type": "markdown",
   "id": "victorian-vampire",
   "metadata": {
    "papermill": {
     "duration": 0.0317,
     "end_time": "2021-11-07T18:04:23.943389",
     "exception": false,
     "start_time": "2021-11-07T18:04:23.911689",
     "status": "completed"
    },
    "tags": []
   },
   "source": [
    "### Almost all the variables except ID, some client variables, phone variables and default have missing values"
   ]
  },
  {
   "cell_type": "code",
   "execution_count": 6,
   "id": "superior-console",
   "metadata": {
    "execution": {
     "iopub.execute_input": "2021-11-07T18:04:24.012020Z",
     "iopub.status.busy": "2021-11-07T18:04:24.011080Z",
     "iopub.status.idle": "2021-11-07T18:04:24.359246Z",
     "shell.execute_reply": "2021-11-07T18:04:24.359914Z",
     "shell.execute_reply.started": "2021-11-07T14:56:37.749666Z"
    },
    "papermill": {
     "duration": 0.384257,
     "end_time": "2021-11-07T18:04:24.360097",
     "exception": false,
     "start_time": "2021-11-07T18:04:23.975840",
     "status": "completed"
    },
    "tags": []
   },
   "outputs": [
    {
     "data": {
      "text/html": [
       "<style  type=\"text/css\" >\n",
       "#T_1447d_row0_col0,#T_1447d_row1_col1{\n",
       "            background-color:  #0000ff;\n",
       "            color:  #f1f1f1;\n",
       "        }#T_1447d_row0_col1,#T_1447d_row1_col0{\n",
       "            background-color:  #00ff80;\n",
       "            color:  #000000;\n",
       "        }</style><table id=\"T_1447d_\" ><thead>    <tr>        <th class=\"blank level0\" ></th>        <th class=\"col_heading level0 col0\" >Default</th>        <th class=\"col_heading level0 col1\" >ID</th>    </tr></thead><tbody>\n",
       "                <tr>\n",
       "                        <th id=\"T_1447d_level0_row0\" class=\"row_heading level0 row0\" >0</th>\n",
       "                        <td id=\"T_1447d_row0_col0\" class=\"data row0 col0\" >0</td>\n",
       "                        <td id=\"T_1447d_row0_col1\" class=\"data row0 col1\" >112011</td>\n",
       "            </tr>\n",
       "            <tr>\n",
       "                        <th id=\"T_1447d_level0_row1\" class=\"row_heading level0 row1\" >1</th>\n",
       "                        <td id=\"T_1447d_row1_col0\" class=\"data row1 col0\" >1</td>\n",
       "                        <td id=\"T_1447d_row1_col1\" class=\"data row1 col1\" >9845</td>\n",
       "            </tr>\n",
       "    </tbody></table>"
      ],
      "text/plain": [
       "<pandas.io.formats.style.Styler at 0x7f9eed57ab90>"
      ]
     },
     "execution_count": 6,
     "metadata": {},
     "output_type": "execute_result"
    }
   ],
   "source": [
    "class_df = train.groupby('Default').count()['ID'].reset_index().sort_values(by='ID',ascending=False)\n",
    "class_df.style.background_gradient(cmap='winter')"
   ]
  },
  {
   "cell_type": "code",
   "execution_count": 7,
   "id": "minimal-pencil",
   "metadata": {
    "execution": {
     "iopub.execute_input": "2021-11-07T18:04:24.442714Z",
     "iopub.status.busy": "2021-11-07T18:04:24.442042Z",
     "iopub.status.idle": "2021-11-07T18:04:24.452923Z",
     "shell.execute_reply": "2021-11-07T18:04:24.453650Z",
     "shell.execute_reply.started": "2021-11-07T14:56:38.087041Z"
    },
    "papermill": {
     "duration": 0.052725,
     "end_time": "2021-11-07T18:04:24.453892",
     "exception": false,
     "start_time": "2021-11-07T18:04:24.401167",
     "status": "completed"
    },
    "tags": []
   },
   "outputs": [
    {
     "name": "stdout",
     "output_type": "stream",
     "text": [
      "[nan  0.  6. 10. 14.  1.  3.  2.  7. 15. 31. 16. 13. 64.  8. 20. 17.  4.\n",
      " 18. 22.  9.  5. 23. 12. 32. 27. 50. 19. 29. 24. 65. 11. 25. 26. 30. 28.\n",
      " 39. 21. 44. 35. 33. 37. 40. 36. 34. 41. 57. 45. 38. 43. 63. 42. 54. 49.\n",
      " 69. 46.]\n",
      "[nan  6.  7.  4.  3. 15. 17. 14. 12. 10.  1.  5. 18.  0.  2. 11.  9.  8.\n",
      " 23. 16. 25. 13. 37. 21. 24. 65. 64. 28. 22. 20. 19. 27. 26. 34. 32. 29.\n",
      " 31. 30. 39. 46. 40. 36. 33. 41. 35. 45. 42. 38. 43. 44. 49. 63. 54. 55.\n",
      " 51.]\n"
     ]
    }
   ],
   "source": [
    "train_null_unique= train.Own_House_Age.unique()\n",
    "test_null_unique= test.Own_House_Age.unique()\n",
    "print(train_null_unique)\n",
    "print (test_null_unique)"
   ]
  },
  {
   "cell_type": "code",
   "execution_count": 8,
   "id": "floating-peripheral",
   "metadata": {
    "execution": {
     "iopub.execute_input": "2021-11-07T18:04:24.531624Z",
     "iopub.status.busy": "2021-11-07T18:04:24.530940Z",
     "iopub.status.idle": "2021-11-07T18:04:24.534019Z",
     "shell.execute_reply": "2021-11-07T18:04:24.533304Z",
     "shell.execute_reply.started": "2021-11-07T14:56:38.102846Z"
    },
    "papermill": {
     "duration": 0.045474,
     "end_time": "2021-11-07T18:04:24.534169",
     "exception": false,
     "start_time": "2021-11-07T18:04:24.488695",
     "status": "completed"
    },
    "tags": []
   },
   "outputs": [],
   "source": [
    "#plt.figure(figsize = (20, 12))\n",
    "#sns.countplot(train.Own_House_Age);"
   ]
  },
  {
   "cell_type": "code",
   "execution_count": 9,
   "id": "upset-reynolds",
   "metadata": {
    "execution": {
     "iopub.execute_input": "2021-11-07T18:04:24.611855Z",
     "iopub.status.busy": "2021-11-07T18:04:24.611074Z",
     "iopub.status.idle": "2021-11-07T18:04:24.842840Z",
     "shell.execute_reply": "2021-11-07T18:04:24.842119Z",
     "shell.execute_reply.started": "2021-11-07T14:56:38.110351Z"
    },
    "papermill": {
     "duration": 0.270732,
     "end_time": "2021-11-07T18:04:24.842992",
     "exception": false,
     "start_time": "2021-11-07T18:04:24.572260",
     "status": "completed"
    },
    "tags": []
   },
   "outputs": [
    {
     "data": {
      "image/png": "[encoded data removed]",
      "text/plain": [
       "<Figure size 864x432 with 1 Axes>"
      ]
     },
     "metadata": {},
     "output_type": "display_data"
    },
    {
     "name": "stdout",
     "output_type": "stream",
     "text": [
      "% of no defaults       : 91.92079175420169\n",
      "Number of no defaults     : 112011\n",
      "% of defaults         : 8.07920824579832\n",
      "Number of defaults    : 9845\n"
     ]
    }
   ],
   "source": [
    "#Graph\n",
    "my_pal = {0: 'deepskyblue', 1: 'deeppink'}\n",
    "\n",
    "plt.figure(figsize = (12, 6))\n",
    "ax = sns.countplot(x = 'Default', data = train, palette = my_pal)\n",
    "plt.title('Class Distribution')\n",
    "plt.show()\n",
    "\n",
    "# Count and %\n",
    "Count_Normal_transacation = len(train[train['Default']==0])\n",
    "Count_Fraud_transacation = len(train[train['Default']==1]) \n",
    "Percentage_of_Normal_transacation = Count_Normal_transacation/(Count_Normal_transacation+Count_Fraud_transacation)\n",
    "print('% of no defaults       :', Percentage_of_Normal_transacation*100)\n",
    "print('Number of no defaults     :', Count_Normal_transacation)\n",
    "Percentage_of_Fraud_transacation= Count_Fraud_transacation/(Count_Normal_transacation+Count_Fraud_transacation)\n",
    "print('% of defaults         :',Percentage_of_Fraud_transacation*100)\n",
    "print('Number of defaults    :', Count_Fraud_transacation)"
   ]
  },
  {
   "cell_type": "markdown",
   "id": "generous-eugene",
   "metadata": {
    "papermill": {
     "duration": 0.034477,
     "end_time": "2021-11-07T18:04:24.912812",
     "exception": false,
     "start_time": "2021-11-07T18:04:24.878335",
     "status": "completed"
    },
    "tags": []
   },
   "source": [
    "### Highly skewed distribution with 8% defaults and 92% no defaults, so a naive model which predicts no default for all records will have 92% accuracy"
   ]
  },
  {
   "cell_type": "code",
   "execution_count": 10,
   "id": "removable-address",
   "metadata": {
    "execution": {
     "iopub.execute_input": "2021-11-07T18:04:24.986177Z",
     "iopub.status.busy": "2021-11-07T18:04:24.985173Z",
     "iopub.status.idle": "2021-11-07T18:04:24.995312Z",
     "shell.execute_reply": "2021-11-07T18:04:24.995851Z",
     "shell.execute_reply.started": "2021-11-07T14:56:38.345873Z"
    },
    "papermill": {
     "duration": 0.048613,
     "end_time": "2021-11-07T18:04:24.996050",
     "exception": false,
     "start_time": "2021-11-07T18:04:24.947437",
     "status": "completed"
    },
    "tags": []
   },
   "outputs": [],
   "source": [
    "# Plot distribution of one feature\n",
    "def plot_distribution(feature,color):\n",
    "    plt.figure(figsize=(10,6))\n",
    "    plt.title(\"Distribution of %s\" % feature)\n",
    "    sns.distplot(train[feature].dropna(),color=color, kde=True,bins=100)\n",
    "    plt.show()\n",
    "    \n",
    "# Plot distribution of multiple features, with TARGET = 1/0 on the same graph\n",
    "def plot_distribution_comp(var,nrow=2):\n",
    "    \n",
    "    i = 0\n",
    "    t1 = train.loc[train['Default'] != 0]\n",
    "    t0 = train.loc[train['Default'] == 0]\n",
    "\n",
    "    sns.set_style('whitegrid')\n",
    "    plt.figure()\n",
    "    fig, ax = plt.subplots(nrow,2,figsize=(12,6*nrow))\n",
    "\n",
    "    for feature in var:\n",
    "        i += 1\n",
    "        plt.subplot(nrow,2,i)\n",
    "        sns.kdeplot(t1[feature], bw=0.5,label=\"Default = 1\")\n",
    "        sns.kdeplot(t0[feature], bw=0.5,label=\"Default = 0\")\n",
    "        plt.ylabel('Density plot', fontsize=12)\n",
    "        plt.xlabel(feature, fontsize=12)\n",
    "        locs, labels = plt.xticks()\n",
    "        plt.tick_params(axis='both', which='major', labelsize=12)\n",
    "    plt.show();"
   ]
  },
  {
   "cell_type": "code",
   "execution_count": 11,
   "id": "legitimate-parks",
   "metadata": {
    "execution": {
     "iopub.execute_input": "2021-11-07T18:04:25.071377Z",
     "iopub.status.busy": "2021-11-07T18:04:25.070430Z",
     "iopub.status.idle": "2021-11-07T18:04:25.077897Z",
     "shell.execute_reply": "2021-11-07T18:04:25.078553Z",
     "shell.execute_reply.started": "2021-11-07T14:56:38.358209Z"
    },
    "papermill": {
     "duration": 0.046743,
     "end_time": "2021-11-07T18:04:25.078734",
     "exception": false,
     "start_time": "2021-11-07T18:04:25.031991",
     "status": "completed"
    },
    "tags": []
   },
   "outputs": [],
   "source": [
    "def plot_bar_comp(var,nrow=2):\n",
    "    \n",
    "    i = 0\n",
    "    sns.set_style('whitegrid')\n",
    "    plt.figure()\n",
    "    fig, ax = plt.subplots(nrow,2,figsize=(12,6*nrow))\n",
    "\n",
    "    for feature in var:\n",
    "        i += 1\n",
    "        plt.subplot(nrow,2,i)\n",
    "        sns.countplot(train[feature])\n",
    "        sns.countplot(train[feature])\n",
    "        plt.ylabel('Count plot', fontsize=12)\n",
    "        plt.xlabel(feature, fontsize=12)\n",
    "        locs, labels = plt.xticks()\n",
    "        plt.tick_params(axis='both', which='major', labelsize=12)\n",
    "    plt.show();"
   ]
  },
  {
   "cell_type": "code",
   "execution_count": 12,
   "id": "protected-threat",
   "metadata": {
    "execution": {
     "iopub.execute_input": "2021-11-07T18:04:25.157420Z",
     "iopub.status.busy": "2021-11-07T18:04:25.156439Z",
     "iopub.status.idle": "2021-11-07T18:04:25.162025Z",
     "shell.execute_reply": "2021-11-07T18:04:25.162669Z",
     "shell.execute_reply.started": "2021-11-07T15:18:41.044784Z"
    },
    "papermill": {
     "duration": 0.046353,
     "end_time": "2021-11-07T18:04:25.162850",
     "exception": false,
     "start_time": "2021-11-07T18:04:25.116497",
     "status": "completed"
    },
    "tags": []
   },
   "outputs": [],
   "source": [
    "# Box Plot for one feature\n",
    "def plot_box(feature, color):\n",
    "    plt.figure(figsize=(10,6))\n",
    "    plt.title(\"Box Plot of %s\" % feature)\n",
    "    sns.boxplot(y=train[feature].dropna(),x= train.Default,color=color)\n",
    "    plt.show()"
   ]
  },
  {
   "cell_type": "code",
   "execution_count": 13,
   "id": "freelance-bikini",
   "metadata": {
    "execution": {
     "iopub.execute_input": "2021-11-07T18:04:25.239252Z",
     "iopub.status.busy": "2021-11-07T18:04:25.238185Z",
     "iopub.status.idle": "2021-11-07T18:04:25.243833Z",
     "shell.execute_reply": "2021-11-07T18:04:25.244378Z",
     "shell.execute_reply.started": "2021-11-07T14:56:38.387409Z"
    },
    "papermill": {
     "duration": 0.045458,
     "end_time": "2021-11-07T18:04:25.244567",
     "exception": false,
     "start_time": "2021-11-07T18:04:25.199109",
     "status": "completed"
    },
    "tags": []
   },
   "outputs": [],
   "source": [
    "# Bar Plot for one feature\n",
    "def plot_bar(feature):\n",
    "    plt.figure(figsize=(10,50))\n",
    "    sns.catplot(y=feature, hue=\"Default\", kind=\"count\",\n",
    "            palette=\"pastel\", edgecolor=\".6\",\n",
    "            data=train);"
   ]
  },
  {
   "cell_type": "code",
   "execution_count": 14,
   "id": "ideal-bishop",
   "metadata": {
    "execution": {
     "iopub.execute_input": "2021-11-07T18:04:25.320256Z",
     "iopub.status.busy": "2021-11-07T18:04:25.319115Z",
     "iopub.status.idle": "2021-11-07T18:04:26.029326Z",
     "shell.execute_reply": "2021-11-07T18:04:26.028655Z",
     "shell.execute_reply.started": "2021-11-07T14:56:38.403237Z"
    },
    "papermill": {
     "duration": 0.749892,
     "end_time": "2021-11-07T18:04:26.029514",
     "exception": false,
     "start_time": "2021-11-07T18:04:25.279622",
     "status": "completed"
    },
    "tags": []
   },
   "outputs": [
    {
     "name": "stdout",
     "output_type": "stream",
     "text": [
      "count    41761.000000\n",
      "mean        12.157324\n",
      "std         12.056079\n",
      "min          0.000000\n",
      "25%          5.000000\n",
      "50%          9.000000\n",
      "75%         15.000000\n",
      "max         69.000000\n",
      "Name: Own_House_Age, dtype: float64\n"
     ]
    },
    {
     "data": {
      "image/png": "[encoded data removed]",
      "text/plain": [
       "<Figure size 720x432 with 1 Axes>"
      ]
     },
     "metadata": {},
     "output_type": "display_data"
    }
   ],
   "source": [
    "print(train.Own_House_Age.describe())\n",
    "plot_distribution('Own_House_Age','green')"
   ]
  },
  {
   "cell_type": "code",
   "execution_count": 15,
   "id": "fourth-minimum",
   "metadata": {
    "execution": {
     "iopub.execute_input": "2021-11-07T18:04:26.124740Z",
     "iopub.status.busy": "2021-11-07T18:04:26.122284Z",
     "iopub.status.idle": "2021-11-07T18:04:26.287890Z",
     "shell.execute_reply": "2021-11-07T18:04:26.287191Z",
     "shell.execute_reply.started": "2021-11-07T15:18:45.806307Z"
    },
    "papermill": {
     "duration": 0.222632,
     "end_time": "2021-11-07T18:04:26.288034",
     "exception": false,
     "start_time": "2021-11-07T18:04:26.065402",
     "status": "completed"
    },
    "tags": []
   },
   "outputs": [
    {
     "data": {
      "image/png": "[encoded data removed]",
      "text/plain": [
       "<Figure size 720x432 with 1 Axes>"
      ]
     },
     "metadata": {},
     "output_type": "display_data"
    }
   ],
   "source": [
    "plot_box(\"Own_House_Age\", \"green\")"
   ]
  },
  {
   "cell_type": "markdown",
   "id": "south-intelligence",
   "metadata": {
    "papermill": {
     "duration": 0.036841,
     "end_time": "2021-11-07T18:04:26.364740",
     "exception": false,
     "start_time": "2021-11-07T18:04:26.327899",
     "status": "completed"
    },
    "tags": []
   },
   "source": [
    "### We can see that there are lot of outliers, let us find how many outliers are there in total"
   ]
  },
  {
   "cell_type": "code",
   "execution_count": 16,
   "id": "jewish-cornwall",
   "metadata": {
    "execution": {
     "iopub.execute_input": "2021-11-07T18:04:26.446162Z",
     "iopub.status.busy": "2021-11-07T18:04:26.444972Z",
     "iopub.status.idle": "2021-11-07T18:04:26.517356Z",
     "shell.execute_reply": "2021-11-07T18:04:26.516810Z",
     "shell.execute_reply.started": "2021-11-07T14:56:39.245515Z"
    },
    "papermill": {
     "duration": 0.116157,
     "end_time": "2021-11-07T18:04:26.517537",
     "exception": false,
     "start_time": "2021-11-07T18:04:26.401380",
     "status": "completed"
    },
    "tags": []
   },
   "outputs": [
    {
     "name": "stdout",
     "output_type": "stream",
     "text": [
      "No. of observations in column:  121856\n",
      "Statistics: Mean=12.157, Std dev=12.056\n",
      "Identified outliers: 1379\n"
     ]
    }
   ],
   "source": [
    "#Number of observations in column\n",
    "obs = len(train.Own_House_Age)\n",
    "print(\"No. of observations in column: \",obs)\n",
    "\n",
    "# calculate summary statistics\n",
    "data_mean, data_std = mean(train.Own_House_Age), std(train.Own_House_Age)\n",
    "print('Statistics: Mean=%.3f, Std dev=%.3f' % (data_mean, data_std))\n",
    "# identify outliers\n",
    "cut_off = data_std * 3\n",
    "lower, upper = data_mean - cut_off, data_mean + cut_off\n",
    "# identify outliers\n",
    "outliers = [x for x in train.Own_House_Age if x < lower or x > upper]\n",
    "print('Identified outliers: %d' % len(outliers))"
   ]
  },
  {
   "cell_type": "code",
   "execution_count": 17,
   "id": "limited-sheffield",
   "metadata": {
    "execution": {
     "iopub.execute_input": "2021-11-07T18:04:26.603318Z",
     "iopub.status.busy": "2021-11-07T18:04:26.602303Z",
     "iopub.status.idle": "2021-11-07T18:04:26.692938Z",
     "shell.execute_reply": "2021-11-07T18:04:26.693387Z",
     "shell.execute_reply.started": "2021-11-07T14:56:39.323773Z"
    },
    "papermill": {
     "duration": 0.139268,
     "end_time": "2021-11-07T18:04:26.693599",
     "exception": false,
     "start_time": "2021-11-07T18:04:26.554331",
     "status": "completed"
    },
    "tags": []
   },
   "outputs": [
    {
     "name": "stdout",
     "output_type": "stream",
     "text": [
      "No. of observations in column:  121856\n"
     ]
    }
   ],
   "source": [
    "def impute_outlier(x):\n",
    "    if x <= lower:\n",
    "        return(data_mean)\n",
    "    elif x>= (upper):\n",
    "        return(data_mean)\n",
    "    else:\n",
    "        return(x)\n",
    "train[\"Own_House_Age_new\"]= train[\"Own_House_Age\"].apply(impute_outlier)\n",
    "print(\"No. of observations in column: \",len(train.Own_House_Age_new))"
   ]
  },
  {
   "cell_type": "code",
   "execution_count": 18,
   "id": "automotive-greensboro",
   "metadata": {
    "execution": {
     "iopub.execute_input": "2021-11-07T18:04:26.780562Z",
     "iopub.status.busy": "2021-11-07T18:04:26.779543Z",
     "iopub.status.idle": "2021-11-07T18:04:26.836789Z",
     "shell.execute_reply": "2021-11-07T18:04:26.837512Z",
     "shell.execute_reply.started": "2021-11-07T15:01:22.275323Z"
    },
    "papermill": {
     "duration": 0.106476,
     "end_time": "2021-11-07T18:04:26.837745",
     "exception": false,
     "start_time": "2021-11-07T18:04:26.731269",
     "status": "completed"
    },
    "tags": []
   },
   "outputs": [
    {
     "name": "stdout",
     "output_type": "stream",
     "text": [
      "No. of observations in column:  121856\n"
     ]
    }
   ],
   "source": [
    "def impute_missing(x):\n",
    "    if x == np.nan:\n",
    "        return(median(x))\n",
    "    else:\n",
    "        return(x)\n",
    "\n",
    "train[\"Own_House_Age_new\"]= train[\"Own_House_Age\"].apply(impute_missing)\n",
    "print(\"No. of observations in column: \",len(train.Own_House_Age_new))\n",
    "    "
   ]
  },
  {
   "cell_type": "code",
   "execution_count": 19,
   "id": "global-system",
   "metadata": {
    "execution": {
     "iopub.execute_input": "2021-11-07T18:04:26.919800Z",
     "iopub.status.busy": "2021-11-07T18:04:26.918863Z",
     "iopub.status.idle": "2021-11-07T18:04:26.939352Z",
     "shell.execute_reply": "2021-11-07T18:04:26.938741Z",
     "shell.execute_reply.started": "2021-11-07T15:01:26.031537Z"
    },
    "papermill": {
     "duration": 0.063743,
     "end_time": "2021-11-07T18:04:26.939504",
     "exception": false,
     "start_time": "2021-11-07T18:04:26.875761",
     "status": "completed"
    },
    "tags": []
   },
   "outputs": [
    {
     "data": {
      "text/plain": [
       "Low        11384\n",
       "High       10351\n",
       "Extreme    10131\n",
       "Medium      9895\n",
       "Name: Own_House_Age_bins, dtype: int64"
      ]
     },
     "execution_count": 19,
     "metadata": {},
     "output_type": "execute_result"
    }
   ],
   "source": [
    "bin_labels = ['Low', 'Medium', 'High', 'Extreme']\n",
    "train['Own_House_Age_bins'] = pd.qcut(train['Own_House_Age'],\n",
    "                              q=[0, .25, .5, .75, 1],\n",
    "                              labels=bin_labels)\n",
    "train['Own_House_Age_bins'].value_counts()"
   ]
  },
  {
   "cell_type": "code",
   "execution_count": 20,
   "id": "million-offset",
   "metadata": {
    "execution": {
     "iopub.execute_input": "2021-11-07T18:04:27.023378Z",
     "iopub.status.busy": "2021-11-07T18:04:27.022718Z",
     "iopub.status.idle": "2021-11-07T18:04:27.810820Z",
     "shell.execute_reply": "2021-11-07T18:04:27.810272Z",
     "shell.execute_reply.started": "2021-11-07T15:01:29.301056Z"
    },
    "papermill": {
     "duration": 0.8335,
     "end_time": "2021-11-07T18:04:27.810952",
     "exception": false,
     "start_time": "2021-11-07T18:04:26.977452",
     "status": "completed"
    },
    "tags": []
   },
   "outputs": [
    {
     "data": {
      "text/plain": [
       "<Figure size 720x3600 with 0 Axes>"
      ]
     },
     "metadata": {},
     "output_type": "display_data"
    },
    {
     "data": {
      "image/png": "[encoded data removed]",
      "text/plain": [
       "<Figure size 404.75x360 with 1 Axes>"
      ]
     },
     "metadata": {},
     "output_type": "display_data"
    }
   ],
   "source": [
    "plot_bar(\"Own_House_Age_bins\")"
   ]
  },
  {
   "cell_type": "markdown",
   "id": "elementary-puppy",
   "metadata": {
    "papermill": {
     "duration": 0.040002,
     "end_time": "2021-11-07T18:04:27.890218",
     "exception": false,
     "start_time": "2021-11-07T18:04:27.850216",
     "status": "completed"
    },
    "tags": []
   },
   "source": [
    "### There is a tendency to default more of the age of the house is more based on above chart"
   ]
  },
  {
   "cell_type": "code",
   "execution_count": 21,
   "id": "sudden-simple",
   "metadata": {
    "execution": {
     "iopub.execute_input": "2021-11-07T18:04:27.974515Z",
     "iopub.status.busy": "2021-11-07T18:04:27.973832Z",
     "iopub.status.idle": "2021-11-07T18:04:28.661166Z",
     "shell.execute_reply": "2021-11-07T18:04:28.661632Z",
     "shell.execute_reply.started": "2021-11-07T15:01:33.487247Z"
    },
    "papermill": {
     "duration": 0.732741,
     "end_time": "2021-11-07T18:04:28.661836",
     "exception": false,
     "start_time": "2021-11-07T18:04:27.929095",
     "status": "completed"
    },
    "tags": []
   },
   "outputs": [
    {
     "name": "stdout",
     "output_type": "stream",
     "text": [
      "count               53021.0\n",
      "mean     0.5012129250527902\n",
      "std      0.2112044486112907\n",
      "min             0.014568132\n",
      "25%             0.333480523\n",
      "50%             0.504656688\n",
      "75%             0.673890059\n",
      "max             0.945741288\n",
      "Name: Score_Source_1, dtype: object\n"
     ]
    },
    {
     "data": {
      "image/png": "[encoded data removed]",
      "text/plain": [
       "<Figure size 720x432 with 1 Axes>"
      ]
     },
     "metadata": {},
     "output_type": "display_data"
    }
   ],
   "source": [
    "print(train.Score_Source_1.describe().astype(str))\n",
    "plot_distribution('Score_Source_1','tomato')"
   ]
  },
  {
   "cell_type": "code",
   "execution_count": 22,
   "id": "destroyed-ecology",
   "metadata": {
    "execution": {
     "iopub.execute_input": "2021-11-07T18:04:28.747195Z",
     "iopub.status.busy": "2021-11-07T18:04:28.746146Z",
     "iopub.status.idle": "2021-11-07T18:04:28.905989Z",
     "shell.execute_reply": "2021-11-07T18:04:28.906562Z",
     "shell.execute_reply.started": "2021-11-07T15:19:08.143503Z"
    },
    "papermill": {
     "duration": 0.204573,
     "end_time": "2021-11-07T18:04:28.906744",
     "exception": false,
     "start_time": "2021-11-07T18:04:28.702171",
     "status": "completed"
    },
    "tags": []
   },
   "outputs": [
    {
     "data": {
      "image/png": "[encoded data removed]",
      "text/plain": [
       "<Figure size 720x432 with 1 Axes>"
      ]
     },
     "metadata": {},
     "output_type": "display_data"
    }
   ],
   "source": [
    "plot_box(\"Score_Source_1\", \"tomato\")"
   ]
  },
  {
   "cell_type": "markdown",
   "id": "classified-musical",
   "metadata": {
    "papermill": {
     "duration": 0.041221,
     "end_time": "2021-11-07T18:04:28.989150",
     "exception": false,
     "start_time": "2021-11-07T18:04:28.947929",
     "status": "completed"
    },
    "tags": []
   },
   "source": [
    "### There are no outliers, so we just need to replace the missing values with median as the distribution is nearly normal"
   ]
  },
  {
   "cell_type": "code",
   "execution_count": 23,
   "id": "lucky-journal",
   "metadata": {
    "execution": {
     "iopub.execute_input": "2021-11-07T18:04:29.075916Z",
     "iopub.status.busy": "2021-11-07T18:04:29.074886Z",
     "iopub.status.idle": "2021-11-07T18:04:29.138728Z",
     "shell.execute_reply": "2021-11-07T18:04:29.138196Z",
     "shell.execute_reply.started": "2021-11-07T15:01:46.112163Z"
    },
    "papermill": {
     "duration": 0.108305,
     "end_time": "2021-11-07T18:04:29.138872",
     "exception": false,
     "start_time": "2021-11-07T18:04:29.030567",
     "status": "completed"
    },
    "tags": []
   },
   "outputs": [
    {
     "name": "stdout",
     "output_type": "stream",
     "text": [
      "No. of observations in column:  121856\n"
     ]
    }
   ],
   "source": [
    "#def impute_missing(x):\n",
    "#    if x == np.nan:\n",
    "#        return(median(x))\n",
    "#    else:\n",
    "#        return(x)\n",
    "train[\"Score_Source_1_new\"]= train[\"Score_Source_1\"].apply(impute_missing)\n",
    "print(\"No. of observations in column: \",len(train.Score_Source_1_new))"
   ]
  },
  {
   "cell_type": "code",
   "execution_count": 24,
   "id": "twenty-progressive",
   "metadata": {
    "execution": {
     "iopub.execute_input": "2021-11-07T18:04:29.226196Z",
     "iopub.status.busy": "2021-11-07T18:04:29.225168Z",
     "iopub.status.idle": "2021-11-07T18:04:29.250048Z",
     "shell.execute_reply": "2021-11-07T18:04:29.249352Z",
     "shell.execute_reply.started": "2021-11-07T15:01:49.734531Z"
    },
    "papermill": {
     "duration": 0.069663,
     "end_time": "2021-11-07T18:04:29.250200",
     "exception": false,
     "start_time": "2021-11-07T18:04:29.180537",
     "status": "completed"
    },
    "tags": []
   },
   "outputs": [
    {
     "data": {
      "text/plain": [
       "Low        13257\n",
       "High       13257\n",
       "Medium     13254\n",
       "Extreme    13253\n",
       "Name: Score_Source_1_bins, dtype: int64"
      ]
     },
     "execution_count": 24,
     "metadata": {},
     "output_type": "execute_result"
    }
   ],
   "source": [
    "bin_labels = ['Low', 'Medium', 'High', 'Extreme']\n",
    "train['Score_Source_1_bins'] = pd.qcut(train['Score_Source_1'],\n",
    "                              q=[0, .25, .5, .75, 1],\n",
    "                              labels=bin_labels)\n",
    "train['Score_Source_1_bins'].value_counts()"
   ]
  },
  {
   "cell_type": "code",
   "execution_count": 25,
   "id": "regular-bosnia",
   "metadata": {
    "execution": {
     "iopub.execute_input": "2021-11-07T18:04:29.341270Z",
     "iopub.status.busy": "2021-11-07T18:04:29.340625Z",
     "iopub.status.idle": "2021-11-07T18:04:29.994613Z",
     "shell.execute_reply": "2021-11-07T18:04:29.994052Z",
     "shell.execute_reply.started": "2021-11-07T15:01:53.093794Z"
    },
    "papermill": {
     "duration": 0.702445,
     "end_time": "2021-11-07T18:04:29.994753",
     "exception": false,
     "start_time": "2021-11-07T18:04:29.292308",
     "status": "completed"
    },
    "tags": []
   },
   "outputs": [
    {
     "data": {
      "text/plain": [
       "<Figure size 720x3600 with 0 Axes>"
      ]
     },
     "metadata": {},
     "output_type": "display_data"
    },
    {
     "data": {
      "image/png": "[encoded data removed]",
      "text/plain": [
       "<Figure size 404.75x360 with 1 Axes>"
      ]
     },
     "metadata": {},
     "output_type": "display_data"
    }
   ],
   "source": [
    "plot_bar(\"Score_Source_1_bins\")"
   ]
  },
  {
   "cell_type": "markdown",
   "id": "federal-anderson",
   "metadata": {
    "papermill": {
     "duration": 0.04443,
     "end_time": "2021-11-07T18:04:30.084236",
     "exception": false,
     "start_time": "2021-11-07T18:04:30.039806",
     "status": "completed"
    },
    "tags": []
   },
   "source": [
    "### There is a tendency to default more at lower scores than higher scores"
   ]
  },
  {
   "cell_type": "code",
   "execution_count": 26,
   "id": "advised-sport",
   "metadata": {
    "execution": {
     "iopub.execute_input": "2021-11-07T18:04:30.176871Z",
     "iopub.status.busy": "2021-11-07T18:04:30.176157Z",
     "iopub.status.idle": "2021-11-07T18:04:30.904588Z",
     "shell.execute_reply": "2021-11-07T18:04:30.905244Z",
     "shell.execute_reply.started": "2021-11-07T15:05:40.885209Z"
    },
    "papermill": {
     "duration": 0.777432,
     "end_time": "2021-11-07T18:04:30.905456",
     "exception": false,
     "start_time": "2021-11-07T18:04:30.128024",
     "status": "completed"
    },
    "tags": []
   },
   "outputs": [
    {
     "name": "stdout",
     "output_type": "stream",
     "text": [
      "count                59928.0\n",
      "mean     0.11742785509277799\n",
      "std      0.10797382393875056\n",
      "min                      0.0\n",
      "25%                   0.0577\n",
      "50%                   0.0887\n",
      "75%                   0.1485\n",
      "max                      1.0\n",
      "Name: Social_Circle_Default, dtype: object\n"
     ]
    },
    {
     "data": {
      "image/png": "[encoded data removed]",
      "text/plain": [
       "<Figure size 720x432 with 1 Axes>"
      ]
     },
     "metadata": {},
     "output_type": "display_data"
    }
   ],
   "source": [
    "print(train.Social_Circle_Default.describe().astype(str))\n",
    "plot_distribution('Social_Circle_Default','tomato')"
   ]
  },
  {
   "cell_type": "code",
   "execution_count": 27,
   "id": "completed-debut",
   "metadata": {
    "execution": {
     "iopub.execute_input": "2021-11-07T18:04:31.002237Z",
     "iopub.status.busy": "2021-11-07T18:04:31.001149Z",
     "iopub.status.idle": "2021-11-07T18:04:31.179084Z",
     "shell.execute_reply": "2021-11-07T18:04:31.179610Z",
     "shell.execute_reply.started": "2021-11-07T15:19:31.453896Z"
    },
    "papermill": {
     "duration": 0.228308,
     "end_time": "2021-11-07T18:04:31.179803",
     "exception": false,
     "start_time": "2021-11-07T18:04:30.951495",
     "status": "completed"
    },
    "tags": []
   },
   "outputs": [
    {
     "data": {
      "image/png": "[encoded data removed]",
      "text/plain": [
       "<Figure size 720x432 with 1 Axes>"
      ]
     },
     "metadata": {},
     "output_type": "display_data"
    }
   ],
   "source": [
    "plot_box(\"Social_Circle_Default\", \"tomato\")"
   ]
  },
  {
   "cell_type": "code",
   "execution_count": 28,
   "id": "athletic-damage",
   "metadata": {
    "execution": {
     "iopub.execute_input": "2021-11-07T18:04:31.275647Z",
     "iopub.status.busy": "2021-11-07T18:04:31.274902Z",
     "iopub.status.idle": "2021-11-07T18:04:31.338894Z",
     "shell.execute_reply": "2021-11-07T18:04:31.338315Z",
     "shell.execute_reply.started": "2021-11-07T15:38:20.179253Z"
    },
    "papermill": {
     "duration": 0.112885,
     "end_time": "2021-11-07T18:04:31.339034",
     "exception": false,
     "start_time": "2021-11-07T18:04:31.226149",
     "status": "completed"
    },
    "tags": []
   },
   "outputs": [
    {
     "name": "stdout",
     "output_type": "stream",
     "text": [
      "No. of observations in column:  121856\n"
     ]
    }
   ],
   "source": [
    "train[\"Social_Circle_Default_new\"]= train[\"Social_Circle_Default\"].apply(impute_missing)\n",
    "print(\"No. of observations in column: \",len(train.Social_Circle_Default_new))"
   ]
  },
  {
   "cell_type": "code",
   "execution_count": 29,
   "id": "corrected-microwave",
   "metadata": {
    "execution": {
     "iopub.execute_input": "2021-11-07T18:04:31.435590Z",
     "iopub.status.busy": "2021-11-07T18:04:31.434967Z",
     "iopub.status.idle": "2021-11-07T18:04:31.467316Z",
     "shell.execute_reply": "2021-11-07T18:04:31.466758Z",
     "shell.execute_reply.started": "2021-11-07T15:38:58.539410Z"
    },
    "papermill": {
     "duration": 0.082031,
     "end_time": "2021-11-07T18:04:31.467473",
     "exception": false,
     "start_time": "2021-11-07T18:04:31.385442",
     "status": "completed"
    },
    "tags": []
   },
   "outputs": [
    {
     "data": {
      "text/plain": [
       "High       15826\n",
       "Low        15112\n",
       "Medium     14963\n",
       "Extreme    14027\n",
       "Name: Social_Circle_Default, dtype: int64"
      ]
     },
     "execution_count": 29,
     "metadata": {},
     "output_type": "execute_result"
    }
   ],
   "source": [
    "bin_labels = ['Low', 'Medium', 'High', 'Extreme']\n",
    "train['Social_Circle_Default'] = pd.qcut(train['Social_Circle_Default'],\n",
    "                              q=[0, .25, .5, .75, 1],\n",
    "                              labels=bin_labels)\n",
    "train['Social_Circle_Default'].value_counts()"
   ]
  },
  {
   "cell_type": "code",
   "execution_count": 30,
   "id": "intelligent-season",
   "metadata": {
    "execution": {
     "iopub.execute_input": "2021-11-07T18:04:31.566566Z",
     "iopub.status.busy": "2021-11-07T18:04:31.565899Z",
     "iopub.status.idle": "2021-11-07T18:04:32.240037Z",
     "shell.execute_reply": "2021-11-07T18:04:32.239509Z",
     "shell.execute_reply.started": "2021-11-07T15:39:39.859316Z"
    },
    "papermill": {
     "duration": 0.72638,
     "end_time": "2021-11-07T18:04:32.240190",
     "exception": false,
     "start_time": "2021-11-07T18:04:31.513810",
     "status": "completed"
    },
    "tags": []
   },
   "outputs": [
    {
     "data": {
      "text/plain": [
       "<Figure size 720x3600 with 0 Axes>"
      ]
     },
     "metadata": {},
     "output_type": "display_data"
    },
    {
     "data": {
      "image/png": "[encoded data removed]",
      "text/plain": [
       "<Figure size 404.75x360 with 1 Axes>"
      ]
     },
     "metadata": {},
     "output_type": "display_data"
    }
   ],
   "source": [
    "plot_bar(\"Social_Circle_Default\");"
   ]
  },
  {
   "cell_type": "markdown",
   "id": "dangerous-avatar",
   "metadata": {
    "papermill": {
     "duration": 0.04797,
     "end_time": "2021-11-07T18:04:32.335805",
     "exception": false,
     "start_time": "2021-11-07T18:04:32.287835",
     "status": "completed"
    },
    "tags": []
   },
   "source": [
    "### Lower social circle score has more probability of default"
   ]
  }
 ],
 "metadata": {
  "kernelspec": {
   "display_name": "Python 3",
   "language": "python",
   "name": "python3"
  },
  "language_info": {
   "codemirror_mode": {
    "name": "ipython",
    "version": 3
   },
   "file_extension": ".py",
   "mimetype": "text/x-python",
   "name": "python",
   "nbconvert_exporter": "python",
   "pygments_lexer": "ipython3",
   "version": "3.7.10"
  },
  "papermill": {
   "default_parameters": {},
   "duration": 26.888786,
   "end_time": "2021-11-07T18:04:34.336677",
   "environment_variables": {},
   "exception": null,
   "input_path": "__notebook__.ipynb",
   "output_path": "__notebook__.ipynb",
   "parameters": {},
   "start_time": "2021-11-07T18:04:07.447891",
   "version": "2.3.3"
  }
 },
 "nbformat": 4,
 "nbformat_minor": 5
}
