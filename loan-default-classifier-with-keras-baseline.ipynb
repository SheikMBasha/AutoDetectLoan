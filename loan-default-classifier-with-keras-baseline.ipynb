{
 "cells": [
  {
   "cell_type": "code",
   "execution_count": 1,
   "id": "2e67abe6",
   "metadata": {
    "execution": {
     "iopub.execute_input": "2021-11-19T17:15:40.311694Z",
     "iopub.status.busy": "2021-11-19T17:15:40.310988Z",
     "iopub.status.idle": "2021-11-19T17:15:47.531266Z",
     "shell.execute_reply": "2021-11-19T17:15:47.530139Z",
     "shell.execute_reply.started": "2021-11-19T16:59:02.366912Z"
    },
    "papermill": {
     "duration": 7.277496,
     "end_time": "2021-11-19T17:15:47.531486",
     "exception": false,
     "start_time": "2021-11-19T17:15:40.253990",
     "status": "completed"
    },
    "tags": []
   },
   "outputs": [
    {
     "name": "stdout",
     "output_type": "stream",
     "text": [
      "/kaggle/input/dish-network-hackathon/Sample_Submission.csv\n",
      "/kaggle/input/dish-network-hackathon/Data_Dictionary.csv\n",
      "/kaggle/input/dish-network-hackathon/Train_Dataset.csv\n",
      "/kaggle/input/dish-network-hackathon/Test_Dataset.csv\n"
     ]
    }
   ],
   "source": [
    "import numpy as np\n",
    "import pandas as pd\n",
    "\n",
    "import matplotlib.pyplot as plt\n",
    "import seaborn as sns\n",
    "\n",
    "import imblearn\n",
    "from imblearn.over_sampling import RandomOverSampler\n",
    "\n",
    "from sklearn.model_selection import train_test_split\n",
    "from sklearn.metrics import confusion_matrix, accuracy_score, f1_score\n",
    "from sklearn.preprocessing import LabelEncoder, StandardScaler\n",
    "\n",
    "\n",
    "from keras.utils.all_utils import to_categorical\n",
    "from keras.models import Sequential\n",
    "from keras.layers import Dense, Dropout\n",
    "from keras import optimizers\n",
    "from keras import losses, metrics\n",
    "from keras.wrappers.scikit_learn import KerasClassifier\n",
    "\n",
    "import os\n",
    "for dirname, _, filenames in os.walk('/kaggle/input'):\n",
    "    for filename in filenames:\n",
    "        print(os.path.join(dirname, filename))\n"
   ]
  },
  {
   "cell_type": "code",
   "execution_count": 2,
   "id": "6132e1a0",
   "metadata": {
    "execution": {
     "iopub.execute_input": "2021-11-19T17:15:47.631357Z",
     "iopub.status.busy": "2021-11-19T17:15:47.630349Z",
     "iopub.status.idle": "2021-11-19T17:15:48.821226Z",
     "shell.execute_reply": "2021-11-19T17:15:48.821802Z",
     "shell.execute_reply.started": "2021-11-19T16:59:09.713318Z"
    },
    "papermill": {
     "duration": 1.241461,
     "end_time": "2021-11-19T17:15:48.821983",
     "exception": false,
     "start_time": "2021-11-19T17:15:47.580522",
     "status": "completed"
    },
    "tags": []
   },
   "outputs": [
    {
     "data": {
      "text/html": [
       "<div>\n",
       "<style scoped>\n",
       "    .dataframe tbody tr th:only-of-type {\n",
       "        vertical-align: middle;\n",
       "    }\n",
       "\n",
       "    .dataframe tbody tr th {\n",
       "        vertical-align: top;\n",
       "    }\n",
       "\n",
       "    .dataframe thead th {\n",
       "        text-align: right;\n",
       "    }\n",
       "</style>\n",
       "<table border=\"1\" class=\"dataframe\">\n",
       "  <thead>\n",
       "    <tr style=\"text-align: right;\">\n",
       "      <th></th>\n",
       "      <th>ID</th>\n",
       "      <th>Client_Income</th>\n",
       "      <th>Car_Owned</th>\n",
       "      <th>Bike_Owned</th>\n",
       "      <th>Active_Loan</th>\n",
       "      <th>House_Own</th>\n",
       "      <th>Child_Count</th>\n",
       "      <th>Credit_Amount</th>\n",
       "      <th>Loan_Annuity</th>\n",
       "      <th>Accompany_Client</th>\n",
       "      <th>...</th>\n",
       "      <th>Client_Permanent_Match_Tag</th>\n",
       "      <th>Client_Contact_Work_Tag</th>\n",
       "      <th>Type_Organization</th>\n",
       "      <th>Score_Source_1</th>\n",
       "      <th>Score_Source_2</th>\n",
       "      <th>Score_Source_3</th>\n",
       "      <th>Social_Circle_Default</th>\n",
       "      <th>Phone_Change</th>\n",
       "      <th>Credit_Bureau</th>\n",
       "      <th>Default</th>\n",
       "    </tr>\n",
       "  </thead>\n",
       "  <tbody>\n",
       "    <tr>\n",
       "      <th>0</th>\n",
       "      <td>12142509</td>\n",
       "      <td>6750</td>\n",
       "      <td>0.0</td>\n",
       "      <td>0.0</td>\n",
       "      <td>1.0</td>\n",
       "      <td>0.0</td>\n",
       "      <td>0.0</td>\n",
       "      <td>61190.55</td>\n",
       "      <td>3416.85</td>\n",
       "      <td>Alone</td>\n",
       "      <td>...</td>\n",
       "      <td>Yes</td>\n",
       "      <td>Yes</td>\n",
       "      <td>Self-employed</td>\n",
       "      <td>0.568066</td>\n",
       "      <td>0.478787</td>\n",
       "      <td>NaN</td>\n",
       "      <td>0.0186</td>\n",
       "      <td>63.0</td>\n",
       "      <td>NaN</td>\n",
       "      <td>0</td>\n",
       "    </tr>\n",
       "    <tr>\n",
       "      <th>1</th>\n",
       "      <td>12138936</td>\n",
       "      <td>20250</td>\n",
       "      <td>1.0</td>\n",
       "      <td>0.0</td>\n",
       "      <td>1.0</td>\n",
       "      <td>NaN</td>\n",
       "      <td>0.0</td>\n",
       "      <td>15282</td>\n",
       "      <td>1826.55</td>\n",
       "      <td>Alone</td>\n",
       "      <td>...</td>\n",
       "      <td>Yes</td>\n",
       "      <td>Yes</td>\n",
       "      <td>Government</td>\n",
       "      <td>0.563360</td>\n",
       "      <td>0.215068</td>\n",
       "      <td>NaN</td>\n",
       "      <td>NaN</td>\n",
       "      <td>NaN</td>\n",
       "      <td>NaN</td>\n",
       "      <td>0</td>\n",
       "    </tr>\n",
       "    <tr>\n",
       "      <th>2</th>\n",
       "      <td>12181264</td>\n",
       "      <td>18000</td>\n",
       "      <td>0.0</td>\n",
       "      <td>0.0</td>\n",
       "      <td>1.0</td>\n",
       "      <td>0.0</td>\n",
       "      <td>1.0</td>\n",
       "      <td>59527.35</td>\n",
       "      <td>2788.2</td>\n",
       "      <td>Alone</td>\n",
       "      <td>...</td>\n",
       "      <td>Yes</td>\n",
       "      <td>Yes</td>\n",
       "      <td>Self-employed</td>\n",
       "      <td>NaN</td>\n",
       "      <td>0.552795</td>\n",
       "      <td>0.329655054</td>\n",
       "      <td>0.0742</td>\n",
       "      <td>277.0</td>\n",
       "      <td>0.0</td>\n",
       "      <td>0</td>\n",
       "    </tr>\n",
       "    <tr>\n",
       "      <th>3</th>\n",
       "      <td>12188929</td>\n",
       "      <td>15750</td>\n",
       "      <td>0.0</td>\n",
       "      <td>0.0</td>\n",
       "      <td>1.0</td>\n",
       "      <td>1.0</td>\n",
       "      <td>0.0</td>\n",
       "      <td>53870.4</td>\n",
       "      <td>2295.45</td>\n",
       "      <td>Alone</td>\n",
       "      <td>...</td>\n",
       "      <td>Yes</td>\n",
       "      <td>Yes</td>\n",
       "      <td>XNA</td>\n",
       "      <td>NaN</td>\n",
       "      <td>0.135182</td>\n",
       "      <td>0.631354537</td>\n",
       "      <td>NaN</td>\n",
       "      <td>1700.0</td>\n",
       "      <td>3.0</td>\n",
       "      <td>0</td>\n",
       "    </tr>\n",
       "    <tr>\n",
       "      <th>4</th>\n",
       "      <td>12133385</td>\n",
       "      <td>33750</td>\n",
       "      <td>1.0</td>\n",
       "      <td>0.0</td>\n",
       "      <td>1.0</td>\n",
       "      <td>0.0</td>\n",
       "      <td>2.0</td>\n",
       "      <td>133988.4</td>\n",
       "      <td>3547.35</td>\n",
       "      <td>Alone</td>\n",
       "      <td>...</td>\n",
       "      <td>Yes</td>\n",
       "      <td>Yes</td>\n",
       "      <td>Business Entity Type 3</td>\n",
       "      <td>0.508199</td>\n",
       "      <td>0.301182</td>\n",
       "      <td>0.355638717</td>\n",
       "      <td>0.2021</td>\n",
       "      <td>674.0</td>\n",
       "      <td>1.0</td>\n",
       "      <td>0</td>\n",
       "    </tr>\n",
       "  </tbody>\n",
       "</table>\n",
       "<p>5 rows × 40 columns</p>\n",
       "</div>"
      ],
      "text/plain": [
       "         ID Client_Income  Car_Owned  Bike_Owned  Active_Loan  House_Own  \\\n",
       "0  12142509          6750        0.0         0.0          1.0        0.0   \n",
       "1  12138936         20250        1.0         0.0          1.0        NaN   \n",
       "2  12181264         18000        0.0         0.0          1.0        0.0   \n",
       "3  12188929         15750        0.0         0.0          1.0        1.0   \n",
       "4  12133385         33750        1.0         0.0          1.0        0.0   \n",
       "\n",
       "   Child_Count Credit_Amount Loan_Annuity Accompany_Client  ...  \\\n",
       "0          0.0      61190.55      3416.85            Alone  ...   \n",
       "1          0.0         15282      1826.55            Alone  ...   \n",
       "2          1.0      59527.35       2788.2            Alone  ...   \n",
       "3          0.0       53870.4      2295.45            Alone  ...   \n",
       "4          2.0      133988.4      3547.35            Alone  ...   \n",
       "\n",
       "  Client_Permanent_Match_Tag Client_Contact_Work_Tag       Type_Organization  \\\n",
       "0                        Yes                     Yes           Self-employed   \n",
       "1                        Yes                     Yes              Government   \n",
       "2                        Yes                     Yes           Self-employed   \n",
       "3                        Yes                     Yes                     XNA   \n",
       "4                        Yes                     Yes  Business Entity Type 3   \n",
       "\n",
       "  Score_Source_1 Score_Source_2 Score_Source_3 Social_Circle_Default  \\\n",
       "0       0.568066       0.478787            NaN                0.0186   \n",
       "1       0.563360       0.215068            NaN                   NaN   \n",
       "2            NaN       0.552795    0.329655054                0.0742   \n",
       "3            NaN       0.135182    0.631354537                   NaN   \n",
       "4       0.508199       0.301182    0.355638717                0.2021   \n",
       "\n",
       "  Phone_Change Credit_Bureau Default  \n",
       "0         63.0           NaN       0  \n",
       "1          NaN           NaN       0  \n",
       "2        277.0           0.0       0  \n",
       "3       1700.0           3.0       0  \n",
       "4        674.0           1.0       0  \n",
       "\n",
       "[5 rows x 40 columns]"
      ]
     },
     "execution_count": 2,
     "metadata": {},
     "output_type": "execute_result"
    }
   ],
   "source": [
    "df = pd.read_csv(\"/kaggle/input/dish-network-hackathon/Train_Dataset.csv\", low_memory=False)\n",
    "df.head()"
   ]
  },
  {
   "cell_type": "code",
   "execution_count": 3,
   "id": "20c9d894",
   "metadata": {
    "execution": {
     "iopub.execute_input": "2021-11-19T17:15:48.916984Z",
     "iopub.status.busy": "2021-11-19T17:15:48.915993Z",
     "iopub.status.idle": "2021-11-19T17:15:48.920326Z",
     "shell.execute_reply": "2021-11-19T17:15:48.920918Z",
     "shell.execute_reply.started": "2021-11-19T16:59:10.906869Z"
    },
    "papermill": {
     "duration": 0.055489,
     "end_time": "2021-11-19T17:15:48.921082",
     "exception": false,
     "start_time": "2021-11-19T17:15:48.865593",
     "status": "completed"
    },
    "tags": []
   },
   "outputs": [],
   "source": [
    "# this is a generic function to fix values based on a map passed\n",
    "\n",
    "def fix_value_by_map(current_value, default, value_map):\n",
    "    if str(current_value) == 'nan':\n",
    "        return value_map[default]\n",
    "    else:\n",
    "        return current_value"
   ]
  },
  {
   "cell_type": "code",
   "execution_count": 4,
   "id": "d14ea833",
   "metadata": {
    "execution": {
     "iopub.execute_input": "2021-11-19T17:15:49.014484Z",
     "iopub.status.busy": "2021-11-19T17:15:49.013521Z",
     "iopub.status.idle": "2021-11-19T17:15:49.016354Z",
     "shell.execute_reply": "2021-11-19T17:15:49.015717Z",
     "shell.execute_reply.started": "2021-11-19T16:59:10.914091Z"
    },
    "papermill": {
     "duration": 0.052694,
     "end_time": "2021-11-19T17:15:49.016485",
     "exception": false,
     "start_time": "2021-11-19T17:15:48.963791",
     "status": "completed"
    },
    "tags": []
   },
   "outputs": [],
   "source": [
    "# this is generic function converting to float\n",
    "\n",
    "def get_floats(values):\n",
    "    vals = []\n",
    "    for v in values:\n",
    "        try:\n",
    "            vals.append(float(v))\n",
    "        except:\n",
    "            vals.append(np.nan)\n",
    "    return vals\n",
    "\n",
    "# this is generic function converting to int\n",
    "\n",
    "def get_integers(values):\n",
    "    vals = []\n",
    "    for v in values:\n",
    "        try:\n",
    "            vals.append(int(v))\n",
    "        except:\n",
    "            vals.append(np.nan)\n",
    "    return vals"
   ]
  },
  {
   "cell_type": "code",
   "execution_count": 5,
   "id": "9da1dde8",
   "metadata": {
    "execution": {
     "iopub.execute_input": "2021-11-19T17:15:49.111181Z",
     "iopub.status.busy": "2021-11-19T17:15:49.110107Z",
     "iopub.status.idle": "2021-11-19T17:15:49.113618Z",
     "shell.execute_reply": "2021-11-19T17:15:49.114139Z",
     "shell.execute_reply.started": "2021-11-19T16:59:10.927434Z"
    },
    "papermill": {
     "duration": 0.054607,
     "end_time": "2021-11-19T17:15:49.114343",
     "exception": false,
     "start_time": "2021-11-19T17:15:49.059736",
     "status": "completed"
    },
    "tags": []
   },
   "outputs": [
    {
     "data": {
      "text/plain": [
       "ID                              int64\n",
       "Client_Income                  object\n",
       "Car_Owned                     float64\n",
       "Bike_Owned                    float64\n",
       "Active_Loan                   float64\n",
       "House_Own                     float64\n",
       "Child_Count                   float64\n",
       "Credit_Amount                  object\n",
       "Loan_Annuity                   object\n",
       "Accompany_Client               object\n",
       "Client_Income_Type             object\n",
       "Client_Education               object\n",
       "Client_Marital_Status          object\n",
       "Client_Gender                  object\n",
       "Loan_Contract_Type             object\n",
       "Client_Housing_Type            object\n",
       "Population_Region_Relative     object\n",
       "Age_Days                       object\n",
       "Employed_Days                  object\n",
       "Registration_Days              object\n",
       "ID_Days                        object\n",
       "Own_House_Age                 float64\n",
       "Mobile_Tag                      int64\n",
       "Homephone_Tag                   int64\n",
       "Workphone_Working               int64\n",
       "Client_Occupation              object\n",
       "Client_Family_Members         float64\n",
       "Cleint_City_Rating            float64\n",
       "Application_Process_Day       float64\n",
       "Application_Process_Hour      float64\n",
       "Client_Permanent_Match_Tag     object\n",
       "Client_Contact_Work_Tag        object\n",
       "Type_Organization              object\n",
       "Score_Source_1                float64\n",
       "Score_Source_2                float64\n",
       "Score_Source_3                 object\n",
       "Social_Circle_Default         float64\n",
       "Phone_Change                  float64\n",
       "Credit_Bureau                 float64\n",
       "Default                         int64\n",
       "dtype: object"
      ]
     },
     "execution_count": 5,
     "metadata": {},
     "output_type": "execute_result"
    }
   ],
   "source": [
    "# check for dtypes\n",
    "\n",
    "# most of data is imported as object and needs to be converted to numeric\n",
    "df.dtypes"
   ]
  },
  {
   "cell_type": "code",
   "execution_count": 6,
   "id": "87f16341",
   "metadata": {
    "execution": {
     "iopub.execute_input": "2021-11-19T17:15:49.211783Z",
     "iopub.status.busy": "2021-11-19T17:15:49.211080Z",
     "iopub.status.idle": "2021-11-19T17:15:51.991199Z",
     "shell.execute_reply": "2021-11-19T17:15:51.989838Z",
     "shell.execute_reply.started": "2021-11-19T16:59:10.943512Z"
    },
    "papermill": {
     "duration": 2.832694,
     "end_time": "2021-11-19T17:15:51.991389",
     "exception": false,
     "start_time": "2021-11-19T17:15:49.158695",
     "status": "completed"
    },
    "tags": []
   },
   "outputs": [],
   "source": [
    "#fix Client_Income\n",
    "\n",
    "# convert to float\n",
    "df['Client_Income'] = get_floats(df.Client_Income)\n",
    "        \n",
    "# replace nan with proper values\n",
    "value_map = df.groupby('Default').median()['Client_Income']\n",
    "df['Client_Income'] = df.apply(lambda row : fix_value_by_map(row['Client_Income'], row['Default'], value_map), axis=1)"
   ]
  },
  {
   "cell_type": "code",
   "execution_count": 7,
   "id": "9060f640",
   "metadata": {
    "execution": {
     "iopub.execute_input": "2021-11-19T17:15:52.089821Z",
     "iopub.status.busy": "2021-11-19T17:15:52.089084Z",
     "iopub.status.idle": "2021-11-19T17:15:52.217538Z",
     "shell.execute_reply": "2021-11-19T17:15:52.218094Z",
     "shell.execute_reply.started": "2021-11-19T16:59:13.731293Z"
    },
    "papermill": {
     "duration": 0.180676,
     "end_time": "2021-11-19T17:15:52.218290",
     "exception": false,
     "start_time": "2021-11-19T17:15:52.037614",
     "status": "completed"
    },
    "tags": []
   },
   "outputs": [],
   "source": [
    "# fix Credit_Amount\n",
    "\n",
    "# convert to float\n",
    "df['Credit_Amount'] = get_floats(df.Credit_Amount)\n",
    "        \n",
    "# remove rows where there is no the amount of the credit\n",
    "df.dropna(subset=['Credit_Amount'], inplace = True)"
   ]
  },
  {
   "cell_type": "code",
   "execution_count": 8,
   "id": "850387ca",
   "metadata": {
    "execution": {
     "iopub.execute_input": "2021-11-19T17:15:52.308456Z",
     "iopub.status.busy": "2021-11-19T17:15:52.307725Z",
     "iopub.status.idle": "2021-11-19T17:15:55.742906Z",
     "shell.execute_reply": "2021-11-19T17:15:55.742342Z",
     "shell.execute_reply.started": "2021-11-19T16:59:13.871217Z"
    },
    "papermill": {
     "duration": 3.481419,
     "end_time": "2021-11-19T17:15:55.743064",
     "exception": false,
     "start_time": "2021-11-19T17:15:52.261645",
     "status": "completed"
    },
    "tags": []
   },
   "outputs": [],
   "source": [
    "# fix Loan_Annuity\n",
    "\n",
    "# convert to float\n",
    "df['Loan_Annuity'] = get_floats(df.Loan_Annuity)\n",
    "\n",
    "# try to get a picture of loan annuity for nan, based on client income and default\n",
    "value_map = df.groupby(['Client_Income','Default']).mean()['Loan_Annuity']\n",
    "\n",
    "\n",
    "def get_Loan_Annuity_by_Client_Income_and_Default(loan_annuity, client_income, default, value_map):\n",
    "    \n",
    "    new_loan_annuity = loan_annuity\n",
    "    \n",
    "    if str(new_loan_annuity) == 'nan':\n",
    "        for key in value_map.keys():\n",
    "            if default == key[1]:\n",
    "                if client_income < key[0]:\n",
    "                    continue\n",
    "                else:\n",
    "                    new_loan_annuity = value_map[key]\n",
    "                    break\n",
    "            else:\n",
    "                continue\n",
    "    return new_loan_annuity\n",
    "          \n",
    "df['Loan_Annuity'] = df.apply(lambda row : get_Loan_Annuity_by_Client_Income_and_Default(row['Loan_Annuity'], row['Client_Income'], row['Default'], value_map), axis=1)"
   ]
  },
  {
   "cell_type": "code",
   "execution_count": 9,
   "id": "74d82ca9",
   "metadata": {
    "execution": {
     "iopub.execute_input": "2021-11-19T17:15:55.894960Z",
     "iopub.status.busy": "2021-11-19T17:15:55.894311Z",
     "iopub.status.idle": "2021-11-19T17:15:55.963661Z",
     "shell.execute_reply": "2021-11-19T17:15:55.964248Z",
     "shell.execute_reply.started": "2021-11-19T16:59:17.341994Z"
    },
    "papermill": {
     "duration": 0.116241,
     "end_time": "2021-11-19T17:15:55.964433",
     "exception": false,
     "start_time": "2021-11-19T17:15:55.848192",
     "status": "completed"
    },
    "tags": []
   },
   "outputs": [],
   "source": [
    "# fix Accompany_Client\n",
    "df[['Accompany_Client']] = df[['Accompany_Client']].fillna(\"Alone\")\n",
    "\n",
    "encoder = LabelEncoder()\n",
    "\n",
    "df.Accompany_Client = encoder.fit_transform(df.Accompany_Client)"
   ]
  },
  {
   "cell_type": "code",
   "execution_count": 10,
   "id": "e0d305c1",
   "metadata": {
    "execution": {
     "iopub.execute_input": "2021-11-19T17:15:56.054949Z",
     "iopub.status.busy": "2021-11-19T17:15:56.054334Z",
     "iopub.status.idle": "2021-11-19T17:15:56.127922Z",
     "shell.execute_reply": "2021-11-19T17:15:56.128446Z",
     "shell.execute_reply.started": "2021-11-19T16:59:17.418651Z"
    },
    "papermill": {
     "duration": 0.120292,
     "end_time": "2021-11-19T17:15:56.128658",
     "exception": false,
     "start_time": "2021-11-19T17:15:56.008366",
     "status": "completed"
    },
    "tags": []
   },
   "outputs": [],
   "source": [
    "# fix Client_Income_Type\n",
    "df[['Client_Income_Type']] = df[['Client_Income_Type']].fillna(\"Unknown\")\n",
    "\n",
    "encoder = LabelEncoder()\n",
    "\n",
    "df.Client_Income_Type = encoder.fit_transform(df.Client_Income_Type)          "
   ]
  },
  {
   "cell_type": "code",
   "execution_count": 11,
   "id": "343b2a18",
   "metadata": {
    "execution": {
     "iopub.execute_input": "2021-11-19T17:15:56.221447Z",
     "iopub.status.busy": "2021-11-19T17:15:56.220767Z",
     "iopub.status.idle": "2021-11-19T17:15:56.228431Z",
     "shell.execute_reply": "2021-11-19T17:15:56.227749Z",
     "shell.execute_reply.started": "2021-11-19T16:59:17.492577Z"
    },
    "papermill": {
     "duration": 0.056517,
     "end_time": "2021-11-19T17:15:56.228583",
     "exception": false,
     "start_time": "2021-11-19T17:15:56.172066",
     "status": "completed"
    },
    "tags": []
   },
   "outputs": [],
   "source": [
    "# fix Car_Owned: consider nan as no car\n",
    "\n",
    "df[['Car_Owned']] = df[['Car_Owned']].fillna(value=0)"
   ]
  },
  {
   "cell_type": "code",
   "execution_count": 12,
   "id": "abd9d491",
   "metadata": {
    "execution": {
     "iopub.execute_input": "2021-11-19T17:15:56.322621Z",
     "iopub.status.busy": "2021-11-19T17:15:56.321536Z",
     "iopub.status.idle": "2021-11-19T17:15:56.325300Z",
     "shell.execute_reply": "2021-11-19T17:15:56.324704Z",
     "shell.execute_reply.started": "2021-11-19T16:59:17.502777Z"
    },
    "papermill": {
     "duration": 0.053354,
     "end_time": "2021-11-19T17:15:56.325443",
     "exception": false,
     "start_time": "2021-11-19T17:15:56.272089",
     "status": "completed"
    },
    "tags": []
   },
   "outputs": [],
   "source": [
    "# fix Bike_Owned: consider nan as no bike\n",
    "\n",
    "df[['Bike_Owned']] = df[['Bike_Owned']].fillna(value=0)"
   ]
  },
  {
   "cell_type": "code",
   "execution_count": 13,
   "id": "5e0cbbff",
   "metadata": {
    "execution": {
     "iopub.execute_input": "2021-11-19T17:15:56.419000Z",
     "iopub.status.busy": "2021-11-19T17:15:56.417976Z",
     "iopub.status.idle": "2021-11-19T17:15:56.423534Z",
     "shell.execute_reply": "2021-11-19T17:15:56.422962Z",
     "shell.execute_reply.started": "2021-11-19T16:59:17.512836Z"
    },
    "papermill": {
     "duration": 0.054858,
     "end_time": "2021-11-19T17:15:56.423675",
     "exception": false,
     "start_time": "2021-11-19T17:15:56.368817",
     "status": "completed"
    },
    "tags": []
   },
   "outputs": [],
   "source": [
    "# fix Active_Loan: consider nan as no active loan\n",
    "\n",
    "df[['Active_Loan']] = df[['Active_Loan']].fillna(value=0)"
   ]
  },
  {
   "cell_type": "code",
   "execution_count": 14,
   "id": "c306430f",
   "metadata": {
    "execution": {
     "iopub.execute_input": "2021-11-19T17:15:56.519202Z",
     "iopub.status.busy": "2021-11-19T17:15:56.518528Z",
     "iopub.status.idle": "2021-11-19T17:15:56.521377Z",
     "shell.execute_reply": "2021-11-19T17:15:56.521837Z",
     "shell.execute_reply.started": "2021-11-19T16:59:17.537400Z"
    },
    "papermill": {
     "duration": 0.054523,
     "end_time": "2021-11-19T17:15:56.522020",
     "exception": false,
     "start_time": "2021-11-19T17:15:56.467497",
     "status": "completed"
    },
    "tags": []
   },
   "outputs": [],
   "source": [
    "# fix House_Own: consider nan as no house owned\n",
    "\n",
    "df[['House_Own']] = df[['House_Own']].fillna(value=0)"
   ]
  },
  {
   "cell_type": "code",
   "execution_count": 15,
   "id": "73a494e6",
   "metadata": {
    "execution": {
     "iopub.execute_input": "2021-11-19T17:15:56.612310Z",
     "iopub.status.busy": "2021-11-19T17:15:56.611605Z",
     "iopub.status.idle": "2021-11-19T17:15:56.617396Z",
     "shell.execute_reply": "2021-11-19T17:15:56.617903Z",
     "shell.execute_reply.started": "2021-11-19T16:59:17.547830Z"
    },
    "papermill": {
     "duration": 0.05251,
     "end_time": "2021-11-19T17:15:56.618074",
     "exception": false,
     "start_time": "2021-11-19T17:15:56.565564",
     "status": "completed"
    },
    "tags": []
   },
   "outputs": [],
   "source": [
    "# fix Child_Count: consider nan as no house owned\n",
    "\n",
    "df[['Child_Count']] = df[['Child_Count']].fillna(value=0)"
   ]
  },
  {
   "cell_type": "code",
   "execution_count": 16,
   "id": "898b4767",
   "metadata": {
    "execution": {
     "iopub.execute_input": "2021-11-19T17:15:56.709446Z",
     "iopub.status.busy": "2021-11-19T17:15:56.708774Z",
     "iopub.status.idle": "2021-11-19T17:15:56.778088Z",
     "shell.execute_reply": "2021-11-19T17:15:56.778621Z",
     "shell.execute_reply.started": "2021-11-19T16:59:17.561294Z"
    },
    "papermill": {
     "duration": 0.116907,
     "end_time": "2021-11-19T17:15:56.778815",
     "exception": false,
     "start_time": "2021-11-19T17:15:56.661908",
     "status": "completed"
    },
    "tags": []
   },
   "outputs": [],
   "source": [
    "# fix Client_Education\n",
    "df[['Client_Education']] = df[['Client_Education']].fillna(value='None')\n",
    "\n",
    "encoder = LabelEncoder()\n",
    "\n",
    "df.Client_Education = encoder.fit_transform(df.Client_Education)  "
   ]
  },
  {
   "cell_type": "code",
   "execution_count": 17,
   "id": "21f8c041",
   "metadata": {
    "execution": {
     "iopub.execute_input": "2021-11-19T17:15:56.872888Z",
     "iopub.status.busy": "2021-11-19T17:15:56.872169Z",
     "iopub.status.idle": "2021-11-19T17:15:56.939480Z",
     "shell.execute_reply": "2021-11-19T17:15:56.940061Z",
     "shell.execute_reply.started": "2021-11-19T16:59:17.638945Z"
    },
    "papermill": {
     "duration": 0.117659,
     "end_time": "2021-11-19T17:15:56.940258",
     "exception": false,
     "start_time": "2021-11-19T17:15:56.822599",
     "status": "completed"
    },
    "tags": []
   },
   "outputs": [],
   "source": [
    "# fix Client_Marital_Status\n",
    "df[['Client_Marital_Status']] = df[['Client_Marital_Status']].fillna(value='Other')\n",
    "\n",
    "encoder = LabelEncoder()\n",
    "\n",
    "df.Client_Marital_Status = encoder.fit_transform(df.Client_Marital_Status)  "
   ]
  },
  {
   "cell_type": "code",
   "execution_count": 18,
   "id": "83153a32",
   "metadata": {
    "execution": {
     "iopub.execute_input": "2021-11-19T17:15:57.034247Z",
     "iopub.status.busy": "2021-11-19T17:15:57.033547Z",
     "iopub.status.idle": "2021-11-19T17:15:57.102741Z",
     "shell.execute_reply": "2021-11-19T17:15:57.103260Z",
     "shell.execute_reply.started": "2021-11-19T16:59:17.712004Z"
    },
    "papermill": {
     "duration": 0.118586,
     "end_time": "2021-11-19T17:15:57.103447",
     "exception": false,
     "start_time": "2021-11-19T17:15:56.984861",
     "status": "completed"
    },
    "tags": []
   },
   "outputs": [],
   "source": [
    "# fix Client_Gender\n",
    "df[['Client_Gender']] = df[['Client_Gender']].fillna(value='Unknown')\n",
    "\n",
    "encoder = LabelEncoder()\n",
    "\n",
    "df.Client_Gender = encoder.fit_transform(df.Client_Gender)  "
   ]
  },
  {
   "cell_type": "code",
   "execution_count": 19,
   "id": "4935074b",
   "metadata": {
    "execution": {
     "iopub.execute_input": "2021-11-19T17:15:57.194400Z",
     "iopub.status.busy": "2021-11-19T17:15:57.193756Z",
     "iopub.status.idle": "2021-11-19T17:15:57.264705Z",
     "shell.execute_reply": "2021-11-19T17:15:57.265295Z",
     "shell.execute_reply.started": "2021-11-19T16:59:17.788737Z"
    },
    "papermill": {
     "duration": 0.117554,
     "end_time": "2021-11-19T17:15:57.265477",
     "exception": false,
     "start_time": "2021-11-19T17:15:57.147923",
     "status": "completed"
    },
    "tags": []
   },
   "outputs": [],
   "source": [
    "# fix Loan_Contract_Type\n",
    "df[['Loan_Contract_Type']] = df[['Loan_Contract_Type']].fillna(value='Other')\n",
    "encoder = LabelEncoder()\n",
    "\n",
    "df.Loan_Contract_Type = encoder.fit_transform(df.Loan_Contract_Type)  "
   ]
  },
  {
   "cell_type": "code",
   "execution_count": 20,
   "id": "5bdfcfae",
   "metadata": {
    "execution": {
     "iopub.execute_input": "2021-11-19T17:15:57.356247Z",
     "iopub.status.busy": "2021-11-19T17:15:57.355518Z",
     "iopub.status.idle": "2021-11-19T17:15:57.425889Z",
     "shell.execute_reply": "2021-11-19T17:15:57.426480Z",
     "shell.execute_reply.started": "2021-11-19T16:59:17.863205Z"
    },
    "papermill": {
     "duration": 0.11754,
     "end_time": "2021-11-19T17:15:57.426664",
     "exception": false,
     "start_time": "2021-11-19T17:15:57.309124",
     "status": "completed"
    },
    "tags": []
   },
   "outputs": [],
   "source": [
    "#fix Client_Housing_Type\n",
    "df[['Client_Housing_Type']] = df[['Client_Housing_Type']].fillna(value='Other')\n",
    "\n",
    "encoder = LabelEncoder()\n",
    "\n",
    "df.Client_Housing_Type = encoder.fit_transform(df.Client_Housing_Type)  "
   ]
  },
  {
   "cell_type": "code",
   "execution_count": 21,
   "id": "29cb24b4",
   "metadata": {
    "execution": {
     "iopub.execute_input": "2021-11-19T17:15:57.533597Z",
     "iopub.status.busy": "2021-11-19T17:15:57.532875Z",
     "iopub.status.idle": "2021-11-19T17:15:57.633770Z",
     "shell.execute_reply": "2021-11-19T17:15:57.633038Z",
     "shell.execute_reply.started": "2021-11-19T16:59:17.936358Z"
    },
    "papermill": {
     "duration": 0.162874,
     "end_time": "2021-11-19T17:15:57.633928",
     "exception": false,
     "start_time": "2021-11-19T17:15:57.471054",
     "status": "completed"
    },
    "tags": []
   },
   "outputs": [],
   "source": [
    "# fix Population_Region_Relative\n",
    "df['Population_Region_Relative'] = get_floats(df.Population_Region_Relative)\n",
    "\n",
    "df[['Client_Housing_Type']] = df[['Client_Housing_Type']].fillna(value=0)\n",
    "\n",
    "encoder = LabelEncoder()\n",
    "\n",
    "df.Population_Region_Relative = encoder.fit_transform(df.Population_Region_Relative)  "
   ]
  },
  {
   "cell_type": "code",
   "execution_count": 22,
   "id": "2606b7eb",
   "metadata": {
    "execution": {
     "iopub.execute_input": "2021-11-19T17:15:57.782231Z",
     "iopub.status.busy": "2021-11-19T17:15:57.757282Z",
     "iopub.status.idle": "2021-11-19T17:16:00.451139Z",
     "shell.execute_reply": "2021-11-19T17:16:00.450564Z",
     "shell.execute_reply.started": "2021-11-19T16:59:18.059080Z"
    },
    "papermill": {
     "duration": 2.772075,
     "end_time": "2021-11-19T17:16:00.451331",
     "exception": false,
     "start_time": "2021-11-19T17:15:57.679256",
     "status": "completed"
    },
    "tags": []
   },
   "outputs": [],
   "source": [
    "# fix Age_Days\n",
    "df['Age_Days'] = get_integers(df.Age_Days)\n",
    "        \n",
    "# map missing ages by 'default' column \n",
    "value_map = df.groupby('Default').median()['Age_Days']\n",
    "df['Age_Days'] = df.apply(lambda row : fix_value_by_map(row['Age_Days'], row['Default'], value_map), axis=1)"
   ]
  },
  {
   "cell_type": "code",
   "execution_count": 23,
   "id": "c5dfdc8c",
   "metadata": {
    "execution": {
     "iopub.execute_input": "2021-11-19T17:16:00.541684Z",
     "iopub.status.busy": "2021-11-19T17:16:00.541030Z",
     "iopub.status.idle": "2021-11-19T17:16:03.273700Z",
     "shell.execute_reply": "2021-11-19T17:16:03.272888Z",
     "shell.execute_reply.started": "2021-11-19T16:59:20.844175Z"
    },
    "papermill": {
     "duration": 2.778829,
     "end_time": "2021-11-19T17:16:03.273859",
     "exception": false,
     "start_time": "2021-11-19T17:16:00.495030",
     "status": "completed"
    },
    "tags": []
   },
   "outputs": [],
   "source": [
    "# fix Employed_Days\n",
    "df['Employed_Days'] = get_integers(df.Employed_Days)\n",
    "\n",
    "# map missing Employed Days by 'default' column\n",
    "value_map = df.groupby('Default').median()['Employed_Days']\n",
    "df['Employed_Days'] = df.apply(lambda row : fix_value_by_map(row['Employed_Days'], row['Default'], value_map), axis=1)"
   ]
  },
  {
   "cell_type": "code",
   "execution_count": 24,
   "id": "db30e9b2",
   "metadata": {
    "execution": {
     "iopub.execute_input": "2021-11-19T17:16:03.369670Z",
     "iopub.status.busy": "2021-11-19T17:16:03.368949Z",
     "iopub.status.idle": "2021-11-19T17:16:06.090068Z",
     "shell.execute_reply": "2021-11-19T17:16:06.089439Z",
     "shell.execute_reply.started": "2021-11-19T16:59:23.675818Z"
    },
    "papermill": {
     "duration": 2.77272,
     "end_time": "2021-11-19T17:16:06.090244",
     "exception": false,
     "start_time": "2021-11-19T17:16:03.317524",
     "status": "completed"
    },
    "tags": []
   },
   "outputs": [],
   "source": [
    "#fix Registration_Days\n",
    "df['Registration_Days'] = get_integers(df.Registration_Days)\n",
    "\n",
    "# map missing Registration Days by 'default' column\n",
    "value_map = df.groupby('Default').median()['Registration_Days']\n",
    "df['Registration_Days'] = df.apply(lambda row : fix_value_by_map(row['Registration_Days'], row['Default'], value_map), axis=1)"
   ]
  },
  {
   "cell_type": "code",
   "execution_count": 25,
   "id": "077c894e",
   "metadata": {
    "execution": {
     "iopub.execute_input": "2021-11-19T17:16:06.186656Z",
     "iopub.status.busy": "2021-11-19T17:16:06.185756Z",
     "iopub.status.idle": "2021-11-19T17:16:08.902280Z",
     "shell.execute_reply": "2021-11-19T17:16:08.902794Z",
     "shell.execute_reply.started": "2021-11-19T16:59:26.415199Z"
    },
    "papermill": {
     "duration": 2.768538,
     "end_time": "2021-11-19T17:16:08.902990",
     "exception": false,
     "start_time": "2021-11-19T17:16:06.134452",
     "status": "completed"
    },
    "tags": []
   },
   "outputs": [],
   "source": [
    "#fix ID_Days\n",
    "df['ID_Days'] = get_integers(df.ID_Days)\n",
    "        \n",
    "# map missing Id Days by 'default' column\n",
    "value_map = df.groupby('Default').median()['ID_Days']\n",
    "df['ID_Days'] = df.apply(lambda row : fix_value_by_map(row['ID_Days'], row['Default'], value_map), axis=1)"
   ]
  },
  {
   "cell_type": "code",
   "execution_count": 26,
   "id": "7ce43c06",
   "metadata": {
    "execution": {
     "iopub.execute_input": "2021-11-19T17:16:09.009087Z",
     "iopub.status.busy": "2021-11-19T17:16:09.008376Z",
     "iopub.status.idle": "2021-11-19T17:16:09.054426Z",
     "shell.execute_reply": "2021-11-19T17:16:09.055001Z",
     "shell.execute_reply.started": "2021-11-19T16:59:29.181924Z"
    },
    "papermill": {
     "duration": 0.108561,
     "end_time": "2021-11-19T17:16:09.055194",
     "exception": false,
     "start_time": "2021-11-19T17:16:08.946633",
     "status": "completed"
    },
    "tags": []
   },
   "outputs": [],
   "source": [
    "# fix Client_Occupation\n",
    "df[['Client_Occupation']] = df[['Client_Occupation']].fillna(value='Other')\n",
    "\n",
    "encoder = LabelEncoder()\n",
    "\n",
    "df.Client_Occupation = encoder.fit_transform(df.Client_Occupation)  "
   ]
  },
  {
   "cell_type": "code",
   "execution_count": 27,
   "id": "03ca81fe",
   "metadata": {
    "execution": {
     "iopub.execute_input": "2021-11-19T17:16:09.187504Z",
     "iopub.status.busy": "2021-11-19T17:16:09.186730Z",
     "iopub.status.idle": "2021-11-19T17:16:09.195790Z",
     "shell.execute_reply": "2021-11-19T17:16:09.195290Z",
     "shell.execute_reply.started": "2021-11-19T16:59:29.245949Z"
    },
    "papermill": {
     "duration": 0.095917,
     "end_time": "2021-11-19T17:16:09.195941",
     "exception": false,
     "start_time": "2021-11-19T17:16:09.100024",
     "status": "completed"
    },
    "tags": []
   },
   "outputs": [
    {
     "data": {
      "text/plain": [
       "array([1, 0])"
      ]
     },
     "execution_count": 27,
     "metadata": {},
     "output_type": "execute_result"
    }
   ],
   "source": [
    "# fix Client_Permanent_Match_Tag\n",
    "encoder = LabelEncoder()\n",
    "\n",
    "df.Client_Permanent_Match_Tag = encoder.fit_transform(df.Client_Permanent_Match_Tag)  \n",
    "df.Client_Permanent_Match_Tag.unique()"
   ]
  },
  {
   "cell_type": "code",
   "execution_count": 28,
   "id": "71dbd282",
   "metadata": {
    "execution": {
     "iopub.execute_input": "2021-11-19T17:16:09.293269Z",
     "iopub.status.busy": "2021-11-19T17:16:09.292582Z",
     "iopub.status.idle": "2021-11-19T17:16:09.313351Z",
     "shell.execute_reply": "2021-11-19T17:16:09.313976Z",
     "shell.execute_reply.started": "2021-11-19T16:59:29.294888Z"
    },
    "papermill": {
     "duration": 0.070293,
     "end_time": "2021-11-19T17:16:09.314174",
     "exception": false,
     "start_time": "2021-11-19T17:16:09.243881",
     "status": "completed"
    },
    "tags": []
   },
   "outputs": [],
   "source": [
    "# fix Own_House_Age\n",
    "\n",
    "# remove for now due to high nans\n",
    "df.drop(['Own_House_Age'], inplace=True, axis=1)"
   ]
  },
  {
   "cell_type": "code",
   "execution_count": 29,
   "id": "f483af8f",
   "metadata": {
    "execution": {
     "iopub.execute_input": "2021-11-19T17:16:09.406418Z",
     "iopub.status.busy": "2021-11-19T17:16:09.405757Z",
     "iopub.status.idle": "2021-11-19T17:16:09.411435Z",
     "shell.execute_reply": "2021-11-19T17:16:09.411903Z",
     "shell.execute_reply.started": "2021-11-19T16:59:29.322149Z"
    },
    "papermill": {
     "duration": 0.053109,
     "end_time": "2021-11-19T17:16:09.412100",
     "exception": false,
     "start_time": "2021-11-19T17:16:09.358991",
     "status": "completed"
    },
    "tags": []
   },
   "outputs": [],
   "source": [
    "# fix family members\n",
    "\n",
    "# suppose nan means zero\n",
    "df[['Client_Family_Members']] = df[['Client_Family_Members']].fillna(value=0)"
   ]
  },
  {
   "cell_type": "code",
   "execution_count": 30,
   "id": "d99544ec",
   "metadata": {
    "execution": {
     "iopub.execute_input": "2021-11-19T17:16:09.516962Z",
     "iopub.status.busy": "2021-11-19T17:16:09.516271Z",
     "iopub.status.idle": "2021-11-19T17:16:12.112099Z",
     "shell.execute_reply": "2021-11-19T17:16:12.111521Z",
     "shell.execute_reply.started": "2021-11-19T16:59:29.329886Z"
    },
    "papermill": {
     "duration": 2.655714,
     "end_time": "2021-11-19T17:16:12.112267",
     "exception": false,
     "start_time": "2021-11-19T17:16:09.456553",
     "status": "completed"
    },
    "tags": []
   },
   "outputs": [],
   "source": [
    "#fix Cleint_City_Rating\n",
    "\n",
    "value_map = df.groupby('Default').median()['Cleint_City_Rating']\n",
    "\n",
    "df['Cleint_City_Rating'] = df.apply(lambda row : fix_value_by_map(row['Cleint_City_Rating'], row['Default'], value_map), axis=1)"
   ]
  },
  {
   "cell_type": "code",
   "execution_count": 31,
   "id": "21bc6925",
   "metadata": {
    "execution": {
     "iopub.execute_input": "2021-11-19T17:16:12.203344Z",
     "iopub.status.busy": "2021-11-19T17:16:12.202710Z",
     "iopub.status.idle": "2021-11-19T17:16:14.854466Z",
     "shell.execute_reply": "2021-11-19T17:16:14.853841Z",
     "shell.execute_reply.started": "2021-11-19T16:59:31.998138Z"
    },
    "papermill": {
     "duration": 2.698384,
     "end_time": "2021-11-19T17:16:14.854619",
     "exception": false,
     "start_time": "2021-11-19T17:16:12.156235",
     "status": "completed"
    },
    "tags": []
   },
   "outputs": [],
   "source": [
    "# fix Application_Process_Day\n",
    "\n",
    "value_map = df.groupby('Default').median()['Application_Process_Day']\n",
    "\n",
    "df['Application_Process_Day'] = df.apply(lambda row : fix_value_by_map(row['Application_Process_Day'], row['Default'], value_map), axis=1)"
   ]
  },
  {
   "cell_type": "code",
   "execution_count": 32,
   "id": "b0072ae2",
   "metadata": {
    "execution": {
     "iopub.execute_input": "2021-11-19T17:16:14.946685Z",
     "iopub.status.busy": "2021-11-19T17:16:14.945690Z",
     "iopub.status.idle": "2021-11-19T17:16:17.570994Z",
     "shell.execute_reply": "2021-11-19T17:16:17.571559Z",
     "shell.execute_reply.started": "2021-11-19T16:59:34.662001Z"
    },
    "papermill": {
     "duration": 2.673107,
     "end_time": "2021-11-19T17:16:17.571738",
     "exception": false,
     "start_time": "2021-11-19T17:16:14.898631",
     "status": "completed"
    },
    "tags": []
   },
   "outputs": [],
   "source": [
    "# fix Application_Process_Hour\n",
    "\n",
    "value_map = df.groupby('Default').median()['Application_Process_Hour']\n",
    "\n",
    "df['Application_Process_Hour'] = df.apply(lambda row : fix_value_by_map(row['Application_Process_Hour'], row['Default'], value_map), axis=1)"
   ]
  },
  {
   "cell_type": "code",
   "execution_count": 33,
   "id": "35e688f0",
   "metadata": {
    "execution": {
     "iopub.execute_input": "2021-11-19T17:16:17.663455Z",
     "iopub.status.busy": "2021-11-19T17:16:17.662452Z",
     "iopub.status.idle": "2021-11-19T17:16:17.706604Z",
     "shell.execute_reply": "2021-11-19T17:16:17.706016Z",
     "shell.execute_reply.started": "2021-11-19T16:59:37.323956Z"
    },
    "papermill": {
     "duration": 0.091276,
     "end_time": "2021-11-19T17:16:17.706758",
     "exception": false,
     "start_time": "2021-11-19T17:16:17.615482",
     "status": "completed"
    },
    "tags": []
   },
   "outputs": [],
   "source": [
    "# fix Client_Contact_Work_Tag\n",
    "encoder = LabelEncoder()\n",
    "\n",
    "df.Client_Contact_Work_Tag = encoder.fit_transform(df.Client_Contact_Work_Tag)  "
   ]
  },
  {
   "cell_type": "code",
   "execution_count": 34,
   "id": "19476bfd",
   "metadata": {
    "execution": {
     "iopub.execute_input": "2021-11-19T17:16:17.798066Z",
     "iopub.status.busy": "2021-11-19T17:16:17.797034Z",
     "iopub.status.idle": "2021-11-19T17:16:21.951265Z",
     "shell.execute_reply": "2021-11-19T17:16:21.950629Z",
     "shell.execute_reply.started": "2021-11-19T16:59:37.369346Z"
    },
    "papermill": {
     "duration": 4.201068,
     "end_time": "2021-11-19T17:16:21.951408",
     "exception": false,
     "start_time": "2021-11-19T17:16:17.750340",
     "status": "completed"
    },
    "tags": []
   },
   "outputs": [],
   "source": [
    "# fix Type organization by splitting between sector and type\n",
    "df.Type_Organization.unique()\n",
    "\n",
    "def get_sector(organization_plus_type_value):\n",
    "    return str(organization_plus_type_value).lower().split('type')[0]\n",
    "\n",
    "def get_sector_type(organization_plus_type_value):\n",
    "    try:\n",
    "        return int(str(organization_plus_type_value).lower().split('type')[1])\n",
    "    except:\n",
    "        return 0\n",
    "\n",
    "    \n",
    "# TODO eventually try to join 'XNA' with 'nan' and/or 'Other'?\n",
    "\n",
    "df['Employment_Sector'] = df.apply(lambda row : get_sector(row['Type_Organization']), axis=1)\n",
    "df['Employment_Sector_Type'] = df.apply(lambda row : get_sector_type(row['Type_Organization']), axis=1)\n",
    "df.drop(['Type_Organization'], inplace=True, axis=1)\n",
    "\n",
    "encoder = LabelEncoder()\n",
    "\n",
    "df['Employment_Sector'] = encoder.fit_transform(df['Employment_Sector'])"
   ]
  },
  {
   "cell_type": "code",
   "execution_count": 35,
   "id": "ed04eec3",
   "metadata": {
    "execution": {
     "iopub.execute_input": "2021-11-19T17:16:22.047890Z",
     "iopub.status.busy": "2021-11-19T17:16:22.042244Z",
     "iopub.status.idle": "2021-11-19T17:16:25.176893Z",
     "shell.execute_reply": "2021-11-19T17:16:25.176270Z",
     "shell.execute_reply.started": "2021-11-19T16:59:41.454115Z"
    },
    "papermill": {
     "duration": 3.181941,
     "end_time": "2021-11-19T17:16:25.177052",
     "exception": false,
     "start_time": "2021-11-19T17:16:21.995111",
     "status": "completed"
    },
    "tags": []
   },
   "outputs": [],
   "source": [
    "#fix Score_Source_1\n",
    "\n",
    "df['Score_Source_1'] = get_floats(df.Score_Source_1)\n",
    "\n",
    "value_map = df.groupby('Default').median()['Score_Source_1']\n",
    "\n",
    "df['Score_Source_1'] = df.apply(lambda row : fix_value_by_map(row['Score_Source_1'], row['Default'], value_map), axis=1)"
   ]
  },
  {
   "cell_type": "code",
   "execution_count": 36,
   "id": "2421b1e2",
   "metadata": {
    "execution": {
     "iopub.execute_input": "2021-11-19T17:16:25.295182Z",
     "iopub.status.busy": "2021-11-19T17:16:25.284862Z",
     "iopub.status.idle": "2021-11-19T17:16:27.995321Z",
     "shell.execute_reply": "2021-11-19T17:16:27.994658Z",
     "shell.execute_reply.started": "2021-11-19T16:59:44.784955Z"
    },
    "papermill": {
     "duration": 2.773773,
     "end_time": "2021-11-19T17:16:27.995476",
     "exception": false,
     "start_time": "2021-11-19T17:16:25.221703",
     "status": "completed"
    },
    "tags": []
   },
   "outputs": [],
   "source": [
    "#fix Score_Source_2\n",
    "\n",
    "df['Score_Source_2'] = get_floats(df.Score_Source_2)\n",
    "\n",
    "value_map = df.groupby('Default').median()['Score_Source_2']\n",
    "\n",
    "df['Score_Source_2'] = df.apply(lambda row : fix_value_by_map(row['Score_Source_2'], row['Default'], value_map), axis=1)"
   ]
  },
  {
   "cell_type": "code",
   "execution_count": 37,
   "id": "4df9fb00",
   "metadata": {
    "execution": {
     "iopub.execute_input": "2021-11-19T17:16:28.088558Z",
     "iopub.status.busy": "2021-11-19T17:16:28.087584Z",
     "iopub.status.idle": "2021-11-19T17:16:30.790090Z",
     "shell.execute_reply": "2021-11-19T17:16:30.789448Z",
     "shell.execute_reply.started": "2021-11-19T16:59:47.544505Z"
    },
    "papermill": {
     "duration": 2.750768,
     "end_time": "2021-11-19T17:16:30.790278",
     "exception": false,
     "start_time": "2021-11-19T17:16:28.039510",
     "status": "completed"
    },
    "tags": []
   },
   "outputs": [],
   "source": [
    "#fix Score_Source_3\n",
    "\n",
    "df['Score_Source_3'] = get_floats(df.Score_Source_3)\n",
    "\n",
    "value_map = df.groupby('Default').median()['Score_Source_3']\n",
    "\n",
    "df['Score_Source_3'] = df.apply(lambda row : fix_value_by_map(row['Score_Source_3'], row['Default'], value_map), axis=1)"
   ]
  },
  {
   "cell_type": "code",
   "execution_count": 38,
   "id": "8f1e42a7",
   "metadata": {
    "execution": {
     "iopub.execute_input": "2021-11-19T17:16:30.881686Z",
     "iopub.status.busy": "2021-11-19T17:16:30.880645Z",
     "iopub.status.idle": "2021-11-19T17:16:33.613396Z",
     "shell.execute_reply": "2021-11-19T17:16:33.614114Z",
     "shell.execute_reply.started": "2021-11-19T16:59:50.313841Z"
    },
    "papermill": {
     "duration": 2.78066,
     "end_time": "2021-11-19T17:16:33.614355",
     "exception": false,
     "start_time": "2021-11-19T17:16:30.833695",
     "status": "completed"
    },
    "tags": []
   },
   "outputs": [],
   "source": [
    "# fix Social_Circle_Default\n",
    "value_map = df.groupby('Default').mean()['Social_Circle_Default']\n",
    "\n",
    "df['Social_Circle_Default'] = df.apply(lambda row : fix_value_by_map(row['Social_Circle_Default'], row['Default'], value_map), axis=1)"
   ]
  },
  {
   "cell_type": "code",
   "execution_count": 39,
   "id": "2a2ac370",
   "metadata": {
    "execution": {
     "iopub.execute_input": "2021-11-19T17:16:33.708753Z",
     "iopub.status.busy": "2021-11-19T17:16:33.707715Z",
     "iopub.status.idle": "2021-11-19T17:16:36.203860Z",
     "shell.execute_reply": "2021-11-19T17:16:36.203236Z",
     "shell.execute_reply.started": "2021-11-19T16:59:53.180405Z"
    },
    "papermill": {
     "duration": 2.544188,
     "end_time": "2021-11-19T17:16:36.203999",
     "exception": false,
     "start_time": "2021-11-19T17:16:33.659811",
     "status": "completed"
    },
    "tags": []
   },
   "outputs": [],
   "source": [
    "# fix Phone_Change\n",
    "value_map = df.groupby('Default').median()['Phone_Change']\n",
    "\n",
    "df['Phone_Change'] = df.apply(lambda row : fix_value_by_map(row['Phone_Change'], row['Default'], value_map), axis=1)"
   ]
  },
  {
   "cell_type": "code",
   "execution_count": 40,
   "id": "b8ac6359",
   "metadata": {
    "execution": {
     "iopub.execute_input": "2021-11-19T17:16:36.311477Z",
     "iopub.status.busy": "2021-11-19T17:16:36.310732Z",
     "iopub.status.idle": "2021-11-19T17:16:38.826505Z",
     "shell.execute_reply": "2021-11-19T17:16:38.825846Z",
     "shell.execute_reply.started": "2021-11-19T16:59:55.781699Z"
    },
    "papermill": {
     "duration": 2.57881,
     "end_time": "2021-11-19T17:16:38.826652",
     "exception": false,
     "start_time": "2021-11-19T17:16:36.247842",
     "status": "completed"
    },
    "tags": []
   },
   "outputs": [],
   "source": [
    "# fix Credit_Bureau\n",
    "value_map = df.groupby('Default').median()['Credit_Bureau']\n",
    "\n",
    "df['Credit_Bureau'] = df.apply(lambda row : fix_value_by_map(row['Credit_Bureau'], row['Default'], value_map), axis=1)"
   ]
  },
  {
   "cell_type": "code",
   "execution_count": 41,
   "id": "948c0d69",
   "metadata": {
    "execution": {
     "iopub.execute_input": "2021-11-19T17:16:38.925826Z",
     "iopub.status.busy": "2021-11-19T17:16:38.924829Z",
     "iopub.status.idle": "2021-11-19T17:16:38.930298Z",
     "shell.execute_reply": "2021-11-19T17:16:38.930903Z",
     "shell.execute_reply.started": "2021-11-19T16:59:58.365698Z"
    },
    "papermill": {
     "duration": 0.05759,
     "end_time": "2021-11-19T17:16:38.931069",
     "exception": false,
     "start_time": "2021-11-19T17:16:38.873479",
     "status": "completed"
    },
    "tags": []
   },
   "outputs": [
    {
     "data": {
      "text/plain": [
       "ID                              int64\n",
       "Client_Income                 float64\n",
       "Car_Owned                     float64\n",
       "Bike_Owned                    float64\n",
       "Active_Loan                   float64\n",
       "House_Own                     float64\n",
       "Child_Count                   float64\n",
       "Credit_Amount                 float64\n",
       "Loan_Annuity                  float64\n",
       "Accompany_Client                int64\n",
       "Client_Income_Type              int64\n",
       "Client_Education                int64\n",
       "Client_Marital_Status           int64\n",
       "Client_Gender                   int64\n",
       "Loan_Contract_Type              int64\n",
       "Client_Housing_Type             int64\n",
       "Population_Region_Relative      int64\n",
       "Age_Days                      float64\n",
       "Employed_Days                 float64\n",
       "Registration_Days             float64\n",
       "ID_Days                       float64\n",
       "Mobile_Tag                      int64\n",
       "Homephone_Tag                   int64\n",
       "Workphone_Working               int64\n",
       "Client_Occupation               int64\n",
       "Client_Family_Members         float64\n",
       "Cleint_City_Rating            float64\n",
       "Application_Process_Day       float64\n",
       "Application_Process_Hour      float64\n",
       "Client_Permanent_Match_Tag      int64\n",
       "Client_Contact_Work_Tag         int64\n",
       "Score_Source_1                float64\n",
       "Score_Source_2                float64\n",
       "Score_Source_3                float64\n",
       "Social_Circle_Default         float64\n",
       "Phone_Change                  float64\n",
       "Credit_Bureau                 float64\n",
       "Default                         int64\n",
       "Employment_Sector               int64\n",
       "Employment_Sector_Type          int64\n",
       "dtype: object"
      ]
     },
     "execution_count": 41,
     "metadata": {},
     "output_type": "execute_result"
    }
   ],
   "source": [
    "# check all dtypes are fine\n",
    "df.dtypes"
   ]
  },
  {
   "cell_type": "code",
   "execution_count": 42,
   "id": "4690096f",
   "metadata": {
    "execution": {
     "iopub.execute_input": "2021-11-19T17:16:39.022968Z",
     "iopub.status.busy": "2021-11-19T17:16:39.021960Z",
     "iopub.status.idle": "2021-11-19T17:16:39.038063Z",
     "shell.execute_reply": "2021-11-19T17:16:39.038638Z",
     "shell.execute_reply.started": "2021-11-19T16:59:58.374588Z"
    },
    "papermill": {
     "duration": 0.063551,
     "end_time": "2021-11-19T17:16:39.038805",
     "exception": false,
     "start_time": "2021-11-19T17:16:38.975254",
     "status": "completed"
    },
    "tags": []
   },
   "outputs": [
    {
     "data": {
      "text/plain": [
       "ID                            0\n",
       "Client_Income                 0\n",
       "Car_Owned                     0\n",
       "Bike_Owned                    0\n",
       "Active_Loan                   0\n",
       "House_Own                     0\n",
       "Child_Count                   0\n",
       "Credit_Amount                 0\n",
       "Loan_Annuity                  0\n",
       "Accompany_Client              0\n",
       "Client_Income_Type            0\n",
       "Client_Education              0\n",
       "Client_Marital_Status         0\n",
       "Client_Gender                 0\n",
       "Loan_Contract_Type            0\n",
       "Client_Housing_Type           0\n",
       "Population_Region_Relative    0\n",
       "Age_Days                      0\n",
       "Employed_Days                 0\n",
       "Registration_Days             0\n",
       "ID_Days                       0\n",
       "Mobile_Tag                    0\n",
       "Homephone_Tag                 0\n",
       "Workphone_Working             0\n",
       "Client_Occupation             0\n",
       "Client_Family_Members         0\n",
       "Cleint_City_Rating            0\n",
       "Application_Process_Day       0\n",
       "Application_Process_Hour      0\n",
       "Client_Permanent_Match_Tag    0\n",
       "Client_Contact_Work_Tag       0\n",
       "Score_Source_1                0\n",
       "Score_Source_2                0\n",
       "Score_Source_3                0\n",
       "Social_Circle_Default         0\n",
       "Phone_Change                  0\n",
       "Credit_Bureau                 0\n",
       "Default                       0\n",
       "Employment_Sector             0\n",
       "Employment_Sector_Type        0\n",
       "dtype: int64"
      ]
     },
     "execution_count": 42,
     "metadata": {},
     "output_type": "execute_result"
    }
   ],
   "source": [
    "# check for nan : we should not have any of them now...\n",
    "df.isna().sum()"
   ]
  },
  {
   "cell_type": "code",
   "execution_count": 43,
   "id": "a8e9eeb1",
   "metadata": {
    "execution": {
     "iopub.execute_input": "2021-11-19T17:16:39.132109Z",
     "iopub.status.busy": "2021-11-19T17:16:39.131128Z",
     "iopub.status.idle": "2021-11-19T17:16:39.174514Z",
     "shell.execute_reply": "2021-11-19T17:16:39.175010Z",
     "shell.execute_reply.started": "2021-11-19T16:59:58.401654Z"
    },
    "papermill": {
     "duration": 0.091537,
     "end_time": "2021-11-19T17:16:39.175197",
     "exception": false,
     "start_time": "2021-11-19T17:16:39.083660",
     "status": "completed"
    },
    "tags": []
   },
   "outputs": [
    {
     "data": {
      "text/html": [
       "<div>\n",
       "<style scoped>\n",
       "    .dataframe tbody tr th:only-of-type {\n",
       "        vertical-align: middle;\n",
       "    }\n",
       "\n",
       "    .dataframe tbody tr th {\n",
       "        vertical-align: top;\n",
       "    }\n",
       "\n",
       "    .dataframe thead th {\n",
       "        text-align: right;\n",
       "    }\n",
       "</style>\n",
       "<table border=\"1\" class=\"dataframe\">\n",
       "  <thead>\n",
       "    <tr style=\"text-align: right;\">\n",
       "      <th></th>\n",
       "      <th>ID</th>\n",
       "      <th>Client_Income</th>\n",
       "      <th>Car_Owned</th>\n",
       "      <th>Bike_Owned</th>\n",
       "      <th>Active_Loan</th>\n",
       "      <th>House_Own</th>\n",
       "      <th>Child_Count</th>\n",
       "      <th>Credit_Amount</th>\n",
       "      <th>Loan_Annuity</th>\n",
       "      <th>Accompany_Client</th>\n",
       "      <th>...</th>\n",
       "      <th>Client_Permanent_Match_Tag</th>\n",
       "      <th>Client_Contact_Work_Tag</th>\n",
       "      <th>Score_Source_1</th>\n",
       "      <th>Score_Source_2</th>\n",
       "      <th>Score_Source_3</th>\n",
       "      <th>Social_Circle_Default</th>\n",
       "      <th>Phone_Change</th>\n",
       "      <th>Credit_Bureau</th>\n",
       "      <th>Employment_Sector</th>\n",
       "      <th>Employment_Sector_Type</th>\n",
       "    </tr>\n",
       "    <tr>\n",
       "      <th>Default</th>\n",
       "      <th></th>\n",
       "      <th></th>\n",
       "      <th></th>\n",
       "      <th></th>\n",
       "      <th></th>\n",
       "      <th></th>\n",
       "      <th></th>\n",
       "      <th></th>\n",
       "      <th></th>\n",
       "      <th></th>\n",
       "      <th></th>\n",
       "      <th></th>\n",
       "      <th></th>\n",
       "      <th></th>\n",
       "      <th></th>\n",
       "      <th></th>\n",
       "      <th></th>\n",
       "      <th></th>\n",
       "      <th></th>\n",
       "      <th></th>\n",
       "      <th></th>\n",
       "    </tr>\n",
       "  </thead>\n",
       "  <tbody>\n",
       "    <tr>\n",
       "      <th>0</th>\n",
       "      <td>108649</td>\n",
       "      <td>108649</td>\n",
       "      <td>108649</td>\n",
       "      <td>108649</td>\n",
       "      <td>108649</td>\n",
       "      <td>108649</td>\n",
       "      <td>108649</td>\n",
       "      <td>108649</td>\n",
       "      <td>108649</td>\n",
       "      <td>108649</td>\n",
       "      <td>...</td>\n",
       "      <td>108649</td>\n",
       "      <td>108649</td>\n",
       "      <td>108649</td>\n",
       "      <td>108649</td>\n",
       "      <td>108649</td>\n",
       "      <td>108649</td>\n",
       "      <td>108649</td>\n",
       "      <td>108649</td>\n",
       "      <td>108649</td>\n",
       "      <td>108649</td>\n",
       "    </tr>\n",
       "    <tr>\n",
       "      <th>1</th>\n",
       "      <td>9570</td>\n",
       "      <td>9570</td>\n",
       "      <td>9570</td>\n",
       "      <td>9570</td>\n",
       "      <td>9570</td>\n",
       "      <td>9570</td>\n",
       "      <td>9570</td>\n",
       "      <td>9570</td>\n",
       "      <td>9570</td>\n",
       "      <td>9570</td>\n",
       "      <td>...</td>\n",
       "      <td>9570</td>\n",
       "      <td>9570</td>\n",
       "      <td>9570</td>\n",
       "      <td>9570</td>\n",
       "      <td>9570</td>\n",
       "      <td>9570</td>\n",
       "      <td>9570</td>\n",
       "      <td>9570</td>\n",
       "      <td>9570</td>\n",
       "      <td>9570</td>\n",
       "    </tr>\n",
       "  </tbody>\n",
       "</table>\n",
       "<p>2 rows × 39 columns</p>\n",
       "</div>"
      ],
      "text/plain": [
       "             ID  Client_Income  Car_Owned  Bike_Owned  Active_Loan  House_Own  \\\n",
       "Default                                                                         \n",
       "0        108649         108649     108649      108649       108649     108649   \n",
       "1          9570           9570       9570        9570         9570       9570   \n",
       "\n",
       "         Child_Count  Credit_Amount  Loan_Annuity  Accompany_Client  ...  \\\n",
       "Default                                                              ...   \n",
       "0             108649         108649        108649            108649  ...   \n",
       "1               9570           9570          9570              9570  ...   \n",
       "\n",
       "         Client_Permanent_Match_Tag  Client_Contact_Work_Tag  Score_Source_1  \\\n",
       "Default                                                                        \n",
       "0                            108649                   108649          108649   \n",
       "1                              9570                     9570            9570   \n",
       "\n",
       "         Score_Source_2  Score_Source_3  Social_Circle_Default  Phone_Change  \\\n",
       "Default                                                                        \n",
       "0                108649          108649                 108649        108649   \n",
       "1                  9570            9570                   9570          9570   \n",
       "\n",
       "         Credit_Bureau  Employment_Sector  Employment_Sector_Type  \n",
       "Default                                                            \n",
       "0               108649             108649                  108649  \n",
       "1                 9570               9570                    9570  \n",
       "\n",
       "[2 rows x 39 columns]"
      ]
     },
     "execution_count": 43,
     "metadata": {},
     "output_type": "execute_result"
    }
   ],
   "source": [
    "# dataset in unbalanced\n",
    "df.groupby('Default').count()"
   ]
  },
  {
   "cell_type": "code",
   "execution_count": 44,
   "id": "474f1a2c",
   "metadata": {
    "execution": {
     "iopub.execute_input": "2021-11-19T17:16:39.279483Z",
     "iopub.status.busy": "2021-11-19T17:16:39.278785Z",
     "iopub.status.idle": "2021-11-19T17:16:39.835025Z",
     "shell.execute_reply": "2021-11-19T17:16:39.835548Z",
     "shell.execute_reply.started": "2021-11-19T16:59:58.450440Z"
    },
    "papermill": {
     "duration": 0.615585,
     "end_time": "2021-11-19T17:16:39.835719",
     "exception": false,
     "start_time": "2021-11-19T17:16:39.220134",
     "status": "completed"
    },
    "tags": []
   },
   "outputs": [
    {
     "data": {
      "text/plain": [
       "217298"
      ]
     },
     "execution_count": 44,
     "metadata": {},
     "output_type": "execute_result"
    }
   ],
   "source": [
    "# oversample the dataset\n",
    "\n",
    "X = df.drop(['ID','Default'], axis=1)\n",
    "Y = df.Default\n",
    "\n",
    "# oversample dataset\n",
    "oversample = RandomOverSampler(sampling_strategy='minority', random_state=0)\n",
    "X_over, y_over = oversample.fit_resample(X, Y)\n",
    "\n",
    "scaler = StandardScaler()\n",
    "X_over = scaler.fit_transform(X_over)\n",
    "\n",
    "len(X_over)"
   ]
  },
  {
   "cell_type": "code",
   "execution_count": 45,
   "id": "3288da48",
   "metadata": {
    "execution": {
     "iopub.execute_input": "2021-11-19T17:16:39.932358Z",
     "iopub.status.busy": "2021-11-19T17:16:39.931627Z",
     "iopub.status.idle": "2021-11-19T17:16:40.366733Z",
     "shell.execute_reply": "2021-11-19T17:16:40.367257Z",
     "shell.execute_reply.started": "2021-11-19T16:59:59.020866Z"
    },
    "papermill": {
     "duration": 0.484449,
     "end_time": "2021-11-19T17:16:40.367447",
     "exception": false,
     "start_time": "2021-11-19T17:16:39.882998",
     "status": "completed"
    },
    "tags": []
   },
   "outputs": [],
   "source": [
    "# generate train test and validation set\n",
    "\n",
    "X_train, X_valid, y_train, y_valid = train_test_split(X_over, y_over, test_size=0.2, stratify=y_over, shuffle=True, random_state=42)\n",
    "\n",
    "X_train, X_test, y_train, y_test = train_test_split(X_train, y_train, test_size=0.3, stratify=y_train, shuffle=True, random_state=42)\n",
    "\n",
    "# transform y to categorical\n",
    "y_train = to_categorical(y_train, 2)\n",
    "y_test = to_categorical(y_test, 2)\n",
    "y_valid = to_categorical(y_valid, 2)"
   ]
  },
  {
   "cell_type": "code",
   "execution_count": 46,
   "id": "d4214626",
   "metadata": {
    "execution": {
     "iopub.execute_input": "2021-11-19T17:16:40.469872Z",
     "iopub.status.busy": "2021-11-19T17:16:40.469123Z",
     "iopub.status.idle": "2021-11-19T17:20:25.728372Z",
     "shell.execute_reply": "2021-11-19T17:20:25.729215Z",
     "shell.execute_reply.started": "2021-11-19T16:59:59.456550Z"
    },
    "papermill": {
     "duration": 225.314489,
     "end_time": "2021-11-19T17:20:25.729415",
     "exception": false,
     "start_time": "2021-11-19T17:16:40.414926",
     "status": "completed"
    },
    "tags": []
   },
   "outputs": [
    {
     "name": "stderr",
     "output_type": "stream",
     "text": [
      "\n",
      "User settings:\n",
      "\n",
      "   KMP_AFFINITY=granularity=fine,verbose,compact,1,0\n",
      "   KMP_BLOCKTIME=0\n",
      "   KMP_DUPLICATE_LIB_OK=True\n",
      "   KMP_INIT_AT_FORK=FALSE\n",
      "   KMP_SETTINGS=1\n",
      "   KMP_WARNINGS=0\n",
      "\n",
      "Effective settings:\n",
      "\n",
      "   KMP_ABORT_DELAY=0\n",
      "   KMP_ADAPTIVE_LOCK_PROPS='1,1024'\n",
      "   KMP_ALIGN_ALLOC=64\n",
      "   KMP_ALL_THREADPRIVATE=128\n",
      "   KMP_ATOMIC_MODE=2\n",
      "   KMP_BLOCKTIME=0\n",
      "   KMP_CPUINFO_FILE: value is not defined\n",
      "   KMP_DETERMINISTIC_REDUCTION=false\n",
      "   KMP_DEVICE_THREAD_LIMIT=2147483647\n",
      "   KMP_DISP_NUM_BUFFERS=7\n",
      "   KMP_DUPLICATE_LIB_OK=true\n",
      "   KMP_ENABLE_TASK_THROTTLING=true\n",
      "   KMP_FORCE_REDUCTION: value is not defined\n",
      "   KMP_FOREIGN_THREADS_THREADPRIVATE=true\n",
      "   KMP_FORKJOIN_BARRIER='2,2'\n",
      "   KMP_FORKJOIN_BARRIER_PATTERN='hyper,hyper'\n",
      "   KMP_GTID_MODE=3\n",
      "   KMP_HANDLE_SIGNALS=false\n",
      "   KMP_HOT_TEAMS_MAX_LEVEL=1\n",
      "   KMP_HOT_TEAMS_MODE=0\n",
      "   KMP_INIT_AT_FORK=true\n",
      "   KMP_LIBRARY=throughput\n",
      "   KMP_LOCK_KIND=queuing\n",
      "   KMP_MALLOC_POOL_INCR=1M\n",
      "   KMP_NUM_LOCKS_IN_BLOCK=1\n",
      "   KMP_PLAIN_BARRIER='2,2'\n",
      "   KMP_PLAIN_BARRIER_PATTERN='hyper,hyper'\n",
      "   KMP_REDUCTION_BARRIER='1,1'\n",
      "   KMP_REDUCTION_BARRIER_PATTERN='hyper,hyper'\n",
      "   KMP_SCHEDULE='static,balanced;guided,iterative'\n",
      "   KMP_SETTINGS=true\n",
      "   KMP_SPIN_BACKOFF_PARAMS='4096,100'\n",
      "   KMP_STACKOFFSET=64\n",
      "   KMP_STACKPAD=0\n",
      "   KMP_STACKSIZE=8M\n",
      "   KMP_STORAGE_MAP=false\n",
      "   KMP_TASKING=2\n",
      "   KMP_TASKLOOP_MIN_TASKS=0\n",
      "   KMP_TASK_STEALING_CONSTRAINT=1\n",
      "   KMP_TEAMS_THREAD_LIMIT=4\n",
      "   KMP_TOPOLOGY_METHOD=all\n",
      "   KMP_USE_YIELD=1\n",
      "   KMP_VERSION=false\n",
      "   KMP_WARNINGS=false\n",
      "   OMP_AFFINITY_FORMAT='OMP: pid %P tid %i thread %n bound to OS proc set {%A}'\n",
      "   OMP_ALLOCATOR=omp_default_mem_alloc\n",
      "   OMP_CANCELLATION=false\n",
      "   OMP_DEFAULT_DEVICE=0\n",
      "   OMP_DISPLAY_AFFINITY=false\n",
      "   OMP_DISPLAY_ENV=false\n",
      "   OMP_DYNAMIC=false\n",
      "   OMP_MAX_ACTIVE_LEVELS=1\n",
      "   OMP_MAX_TASK_PRIORITY=0\n",
      "   OMP_NESTED: deprecated; max-active-levels-var=1\n",
      "   OMP_NUM_THREADS: value is not defined\n",
      "   OMP_PLACES: value is not defined\n",
      "   OMP_PROC_BIND='intel'\n",
      "   OMP_SCHEDULE='static'\n",
      "   OMP_STACKSIZE=8M\n",
      "   OMP_TARGET_OFFLOAD=DEFAULT\n",
      "   OMP_THREAD_LIMIT=2147483647\n",
      "   OMP_WAIT_POLICY=PASSIVE\n",
      "   KMP_AFFINITY='verbose,warnings,respect,granularity=fine,compact,1,0'\n",
      "\n",
      "2021-11-19 17:16:40.508991: I tensorflow/core/common_runtime/process_util.cc:146] Creating new thread pool with default inter op setting: 2. Tune using inter_op_parallelism_threads for best performance.\n",
      "2021-11-19 17:16:40.639826: I tensorflow/compiler/mlir/mlir_graph_optimization_pass.cc:185] None of the MLIR Optimization Passes are enabled (registered 2)\n"
     ]
    },
    {
     "name": "stdout",
     "output_type": "stream",
     "text": [
      "Epoch 1/80\n",
      "476/476 [==============================] - 4s 6ms/step - loss: 0.4487 - auc: 0.8766 - val_loss: 0.3466 - val_auc: 0.9257\n",
      "Epoch 2/80\n",
      "476/476 [==============================] - 3s 6ms/step - loss: 0.3234 - auc: 0.9347 - val_loss: 0.2949 - val_auc: 0.9446\n",
      "Epoch 3/80\n",
      "476/476 [==============================] - 3s 6ms/step - loss: 0.2815 - auc: 0.9493 - val_loss: 0.2663 - val_auc: 0.9550\n",
      "Epoch 4/80\n",
      "476/476 [==============================] - 3s 7ms/step - loss: 0.2551 - auc: 0.9580 - val_loss: 0.2509 - val_auc: 0.9585\n",
      "Epoch 5/80\n",
      "476/476 [==============================] - 3s 6ms/step - loss: 0.2305 - auc: 0.9653 - val_loss: 0.2270 - val_auc: 0.9662\n",
      "Epoch 6/80\n",
      "476/476 [==============================] - 3s 6ms/step - loss: 0.2076 - auc: 0.9716 - val_loss: 0.2077 - val_auc: 0.9705\n",
      "Epoch 7/80\n",
      "476/476 [==============================] - 3s 6ms/step - loss: 0.1877 - auc: 0.9764 - val_loss: 0.1953 - val_auc: 0.9731\n",
      "Epoch 8/80\n",
      "476/476 [==============================] - 3s 6ms/step - loss: 0.1701 - auc: 0.9797 - val_loss: 0.1773 - val_auc: 0.9776\n",
      "Epoch 9/80\n",
      "476/476 [==============================] - 3s 6ms/step - loss: 0.1545 - auc: 0.9830 - val_loss: 0.1738 - val_auc: 0.9765\n",
      "Epoch 10/80\n",
      "476/476 [==============================] - 3s 6ms/step - loss: 0.1416 - auc: 0.9853 - val_loss: 0.1529 - val_auc: 0.9812\n",
      "Epoch 11/80\n",
      "476/476 [==============================] - 3s 6ms/step - loss: 0.1296 - auc: 0.9870 - val_loss: 0.1480 - val_auc: 0.9822\n",
      "Epoch 12/80\n",
      "476/476 [==============================] - 3s 6ms/step - loss: 0.1191 - auc: 0.9888 - val_loss: 0.1401 - val_auc: 0.9831\n",
      "Epoch 13/80\n",
      "476/476 [==============================] - 3s 6ms/step - loss: 0.1082 - auc: 0.9902 - val_loss: 0.1368 - val_auc: 0.9835\n",
      "Epoch 14/80\n",
      "476/476 [==============================] - 3s 6ms/step - loss: 0.1024 - auc: 0.9912 - val_loss: 0.1264 - val_auc: 0.9849\n",
      "Epoch 15/80\n",
      "476/476 [==============================] - 3s 6ms/step - loss: 0.0954 - auc: 0.9920 - val_loss: 0.1162 - val_auc: 0.9874\n",
      "Epoch 16/80\n",
      "476/476 [==============================] - 3s 7ms/step - loss: 0.0889 - auc: 0.9928 - val_loss: 0.1208 - val_auc: 0.9858\n",
      "Epoch 17/80\n",
      "476/476 [==============================] - 3s 6ms/step - loss: 0.0834 - auc: 0.9935 - val_loss: 0.1113 - val_auc: 0.9867\n",
      "Epoch 18/80\n",
      "476/476 [==============================] - 3s 6ms/step - loss: 0.0768 - auc: 0.9940 - val_loss: 0.1237 - val_auc: 0.9841\n",
      "Epoch 19/80\n",
      "476/476 [==============================] - 3s 6ms/step - loss: 0.0731 - auc: 0.9945 - val_loss: 0.1064 - val_auc: 0.9882\n",
      "Epoch 20/80\n",
      "476/476 [==============================] - 3s 6ms/step - loss: 0.0680 - auc: 0.9950 - val_loss: 0.1049 - val_auc: 0.9874\n",
      "Epoch 21/80\n",
      "476/476 [==============================] - 3s 6ms/step - loss: 0.0672 - auc: 0.9951 - val_loss: 0.0974 - val_auc: 0.9889\n",
      "Epoch 22/80\n",
      "476/476 [==============================] - 3s 6ms/step - loss: 0.0622 - auc: 0.9955 - val_loss: 0.1021 - val_auc: 0.9875\n",
      "Epoch 23/80\n",
      "476/476 [==============================] - 3s 6ms/step - loss: 0.0583 - auc: 0.9960 - val_loss: 0.0937 - val_auc: 0.9898\n",
      "Epoch 24/80\n",
      "476/476 [==============================] - 3s 6ms/step - loss: 0.0556 - auc: 0.9962 - val_loss: 0.1029 - val_auc: 0.9873\n",
      "Epoch 25/80\n",
      "476/476 [==============================] - 3s 5ms/step - loss: 0.0535 - auc: 0.9963 - val_loss: 0.1100 - val_auc: 0.9858\n",
      "Epoch 26/80\n",
      "476/476 [==============================] - 3s 6ms/step - loss: 0.0497 - auc: 0.9968 - val_loss: 0.1095 - val_auc: 0.9866\n",
      "Epoch 27/80\n",
      "476/476 [==============================] - 3s 7ms/step - loss: 0.0496 - auc: 0.9967 - val_loss: 0.1027 - val_auc: 0.9873\n",
      "Epoch 28/80\n",
      "476/476 [==============================] - 3s 6ms/step - loss: 0.0478 - auc: 0.9967 - val_loss: 0.0961 - val_auc: 0.9878\n",
      "Epoch 29/80\n",
      "476/476 [==============================] - 3s 6ms/step - loss: 0.0440 - auc: 0.9972 - val_loss: 0.0973 - val_auc: 0.9877\n",
      "Epoch 30/80\n",
      "476/476 [==============================] - 3s 6ms/step - loss: 0.0438 - auc: 0.9972 - val_loss: 0.1172 - val_auc: 0.9851\n",
      "Epoch 31/80\n",
      "476/476 [==============================] - 3s 6ms/step - loss: 0.0419 - auc: 0.9973 - val_loss: 0.1068 - val_auc: 0.9865\n",
      "Epoch 32/80\n",
      "476/476 [==============================] - 3s 5ms/step - loss: 0.0423 - auc: 0.9970 - val_loss: 0.0957 - val_auc: 0.9879\n",
      "Epoch 33/80\n",
      "476/476 [==============================] - 3s 6ms/step - loss: 0.0394 - auc: 0.9974 - val_loss: 0.1153 - val_auc: 0.9849\n",
      "Epoch 34/80\n",
      "476/476 [==============================] - 3s 6ms/step - loss: 0.0381 - auc: 0.9975 - val_loss: 0.0860 - val_auc: 0.9894\n",
      "Epoch 35/80\n",
      "476/476 [==============================] - 3s 6ms/step - loss: 0.0373 - auc: 0.9979 - val_loss: 0.0987 - val_auc: 0.9874\n",
      "Epoch 36/80\n",
      "476/476 [==============================] - 3s 5ms/step - loss: 0.0357 - auc: 0.9977 - val_loss: 0.0953 - val_auc: 0.9880\n",
      "Epoch 37/80\n",
      "476/476 [==============================] - 3s 6ms/step - loss: 0.0349 - auc: 0.9977 - val_loss: 0.0921 - val_auc: 0.9887\n",
      "Epoch 38/80\n",
      "476/476 [==============================] - 3s 6ms/step - loss: 0.0347 - auc: 0.9976 - val_loss: 0.1134 - val_auc: 0.9859\n",
      "Epoch 39/80\n",
      "476/476 [==============================] - 3s 6ms/step - loss: 0.0311 - auc: 0.9981 - val_loss: 0.1058 - val_auc: 0.9870\n",
      "Epoch 40/80\n",
      "476/476 [==============================] - 3s 6ms/step - loss: 0.0337 - auc: 0.9978 - val_loss: 0.1101 - val_auc: 0.9858\n",
      "Epoch 41/80\n",
      "476/476 [==============================] - 3s 6ms/step - loss: 0.0322 - auc: 0.9979 - val_loss: 0.1034 - val_auc: 0.9869\n",
      "Epoch 42/80\n",
      "476/476 [==============================] - 3s 6ms/step - loss: 0.0308 - auc: 0.9980 - val_loss: 0.1084 - val_auc: 0.9864\n",
      "Epoch 43/80\n",
      "476/476 [==============================] - 3s 6ms/step - loss: 0.0301 - auc: 0.9980 - val_loss: 0.0975 - val_auc: 0.9876\n",
      "Epoch 44/80\n",
      "476/476 [==============================] - 3s 6ms/step - loss: 0.0297 - auc: 0.9980 - val_loss: 0.1024 - val_auc: 0.9875\n",
      "Epoch 45/80\n",
      "476/476 [==============================] - 3s 6ms/step - loss: 0.0279 - auc: 0.9984 - val_loss: 0.0924 - val_auc: 0.9888\n",
      "Epoch 46/80\n",
      "476/476 [==============================] - 3s 6ms/step - loss: 0.0285 - auc: 0.9981 - val_loss: 0.0926 - val_auc: 0.9889\n",
      "Epoch 47/80\n",
      "476/476 [==============================] - 3s 6ms/step - loss: 0.0282 - auc: 0.9981 - val_loss: 0.0980 - val_auc: 0.9884\n",
      "Epoch 48/80\n",
      "476/476 [==============================] - 3s 6ms/step - loss: 0.0286 - auc: 0.9981 - val_loss: 0.0898 - val_auc: 0.9891\n",
      "Epoch 49/80\n",
      "476/476 [==============================] - 3s 6ms/step - loss: 0.0262 - auc: 0.9983 - val_loss: 0.1005 - val_auc: 0.9882\n",
      "Epoch 50/80\n",
      "476/476 [==============================] - 3s 7ms/step - loss: 0.0280 - auc: 0.9980 - val_loss: 0.0942 - val_auc: 0.9883\n",
      "Epoch 51/80\n",
      "476/476 [==============================] - 3s 6ms/step - loss: 0.0245 - auc: 0.9984 - val_loss: 0.1161 - val_auc: 0.9852\n",
      "Epoch 52/80\n",
      "476/476 [==============================] - 3s 6ms/step - loss: 0.0235 - auc: 0.9986 - val_loss: 0.0945 - val_auc: 0.9887\n",
      "Epoch 53/80\n",
      "476/476 [==============================] - 3s 6ms/step - loss: 0.0237 - auc: 0.9985 - val_loss: 0.1088 - val_auc: 0.9866\n",
      "Epoch 54/80\n",
      "476/476 [==============================] - 3s 6ms/step - loss: 0.0264 - auc: 0.9982 - val_loss: 0.1022 - val_auc: 0.9876\n",
      "Epoch 55/80\n",
      "476/476 [==============================] - 3s 6ms/step - loss: 0.0253 - auc: 0.9981 - val_loss: 0.0978 - val_auc: 0.9880\n",
      "Epoch 56/80\n",
      "476/476 [==============================] - 3s 6ms/step - loss: 0.0239 - auc: 0.9985 - val_loss: 0.0986 - val_auc: 0.9880\n",
      "Epoch 57/80\n",
      "476/476 [==============================] - 3s 6ms/step - loss: 0.0235 - auc: 0.9984 - val_loss: 0.1096 - val_auc: 0.9873\n",
      "Epoch 58/80\n",
      "476/476 [==============================] - 3s 6ms/step - loss: 0.0234 - auc: 0.9984 - val_loss: 0.0856 - val_auc: 0.9895\n",
      "Epoch 59/80\n",
      "476/476 [==============================] - 3s 6ms/step - loss: 0.0214 - auc: 0.9987 - val_loss: 0.0957 - val_auc: 0.9889\n",
      "Epoch 60/80\n",
      "476/476 [==============================] - 3s 6ms/step - loss: 0.0220 - auc: 0.9985 - val_loss: 0.1065 - val_auc: 0.9872\n",
      "Epoch 61/80\n",
      "476/476 [==============================] - 3s 6ms/step - loss: 0.0223 - auc: 0.9985 - val_loss: 0.1047 - val_auc: 0.9873\n",
      "Epoch 62/80\n",
      "476/476 [==============================] - 3s 7ms/step - loss: 0.0214 - auc: 0.9985 - val_loss: 0.0951 - val_auc: 0.9888\n",
      "Epoch 63/80\n",
      "476/476 [==============================] - 3s 6ms/step - loss: 0.0214 - auc: 0.9984 - val_loss: 0.1074 - val_auc: 0.9876\n",
      "Epoch 64/80\n",
      "476/476 [==============================] - 3s 6ms/step - loss: 0.0223 - auc: 0.9985 - val_loss: 0.1196 - val_auc: 0.9859\n",
      "Epoch 65/80\n",
      "476/476 [==============================] - 3s 6ms/step - loss: 0.0206 - auc: 0.9986 - val_loss: 0.1216 - val_auc: 0.9855\n",
      "Epoch 66/80\n",
      "476/476 [==============================] - 3s 6ms/step - loss: 0.0223 - auc: 0.9983 - val_loss: 0.1044 - val_auc: 0.9881\n",
      "Epoch 67/80\n",
      "476/476 [==============================] - 3s 6ms/step - loss: 0.0196 - auc: 0.9987 - val_loss: 0.1119 - val_auc: 0.9869\n",
      "Epoch 68/80\n",
      "476/476 [==============================] - 3s 5ms/step - loss: 0.0214 - auc: 0.9983 - val_loss: 0.1092 - val_auc: 0.9873\n",
      "Epoch 69/80\n",
      "476/476 [==============================] - 3s 6ms/step - loss: 0.0212 - auc: 0.9984 - val_loss: 0.1115 - val_auc: 0.9867\n",
      "Epoch 70/80\n",
      "476/476 [==============================] - 3s 6ms/step - loss: 0.0208 - auc: 0.9984 - val_loss: 0.0954 - val_auc: 0.9889\n",
      "Epoch 71/80\n",
      "476/476 [==============================] - 3s 6ms/step - loss: 0.0198 - auc: 0.9986 - val_loss: 0.1011 - val_auc: 0.9887\n",
      "Epoch 72/80\n",
      "476/476 [==============================] - 3s 6ms/step - loss: 0.0190 - auc: 0.9987 - val_loss: 0.0885 - val_auc: 0.9902\n",
      "Epoch 73/80\n",
      "476/476 [==============================] - 3s 6ms/step - loss: 0.0199 - auc: 0.9985 - val_loss: 0.0928 - val_auc: 0.9893\n",
      "Epoch 74/80\n",
      "476/476 [==============================] - 3s 7ms/step - loss: 0.0210 - auc: 0.9985 - val_loss: 0.1042 - val_auc: 0.9877\n",
      "Epoch 75/80\n",
      "476/476 [==============================] - 3s 6ms/step - loss: 0.0185 - auc: 0.9987 - val_loss: 0.1103 - val_auc: 0.9870\n",
      "Epoch 76/80\n",
      "476/476 [==============================] - 3s 6ms/step - loss: 0.0202 - auc: 0.9985 - val_loss: 0.1050 - val_auc: 0.9886\n",
      "Epoch 77/80\n",
      "476/476 [==============================] - 3s 6ms/step - loss: 0.0190 - auc: 0.9987 - val_loss: 0.0983 - val_auc: 0.9894\n",
      "Epoch 78/80\n",
      "476/476 [==============================] - 3s 6ms/step - loss: 0.0183 - auc: 0.9987 - val_loss: 0.1014 - val_auc: 0.9887\n",
      "Epoch 79/80\n",
      "476/476 [==============================] - 3s 6ms/step - loss: 0.0189 - auc: 0.9986 - val_loss: 0.0987 - val_auc: 0.9887\n",
      "Epoch 80/80\n",
      "476/476 [==============================] - 3s 6ms/step - loss: 0.0165 - auc: 0.9988 - val_loss: 0.1171 - val_auc: 0.9869\n"
     ]
    }
   ],
   "source": [
    "# compose the NN model\n",
    "\n",
    "model = Sequential()\n",
    "model.add(Dense(256, activation='relu'))\n",
    "model.add(Dense(256, activation='relu'))\n",
    "model.add(Dropout(0.3))\n",
    "model.add(Dense(2, activation='softmax'))\n",
    "model.compile(loss='binary_crossentropy', optimizer='adam', metrics=['AUC'])\n",
    "model.fit(X_train, y_train, batch_size = 256,  epochs = 80, verbose = True, \n",
    "          validation_data=(X_test, y_test), shuffle=True)    \n",
    "# Evaluate the model accuracy on the validation set.\n",
    "score = model.evaluate(X_valid, y_valid, verbose=0)"
   ]
  },
  {
   "cell_type": "code",
   "execution_count": 47,
   "id": "63543e6a",
   "metadata": {
    "execution": {
     "iopub.execute_input": "2021-11-19T17:20:28.168385Z",
     "iopub.status.busy": "2021-11-19T17:20:28.167004Z",
     "iopub.status.idle": "2021-11-19T17:20:35.788915Z",
     "shell.execute_reply": "2021-11-19T17:20:35.789680Z",
     "shell.execute_reply.started": "2021-11-19T17:03:02.385233Z"
    },
    "papermill": {
     "duration": 8.876984,
     "end_time": "2021-11-19T17:20:35.789947",
     "exception": false,
     "start_time": "2021-11-19T17:20:26.912963",
     "status": "completed"
    },
    "tags": []
   },
   "outputs": [],
   "source": [
    "# predict for train and validation (will be used later for confusion matrix)\n",
    "y_train_pred = model.predict(X_train)\n",
    "y_test_pred = model.predict(X_test)\n",
    "y_valid_pred = model.predict(X_valid)"
   ]
  },
  {
   "cell_type": "code",
   "execution_count": 48,
   "id": "b2dfe85b",
   "metadata": {
    "execution": {
     "iopub.execute_input": "2021-11-19T17:20:38.590878Z",
     "iopub.status.busy": "2021-11-19T17:20:38.564964Z",
     "iopub.status.idle": "2021-11-19T17:20:40.043671Z",
     "shell.execute_reply": "2021-11-19T17:20:40.044626Z",
     "shell.execute_reply.started": "2021-11-19T17:03:09.930419Z"
    },
    "papermill": {
     "duration": 2.992844,
     "end_time": "2021-11-19T17:20:40.045196",
     "exception": false,
     "start_time": "2021-11-19T17:20:37.052352",
     "status": "completed"
    },
    "tags": []
   },
   "outputs": [
    {
     "data": {
      "image/png": "[encoded data removed]",
      "text/plain": [
       "<Figure size 720x576 with 2 Axes>"
      ]
     },
     "metadata": {
      "needs_background": "light"
     },
     "output_type": "display_data"
    }
   ],
   "source": [
    "# plot confusion matrix train TRAIN\n",
    "\n",
    "y_train_for_cmatrix = []\n",
    "y_train_preds_for_cmatrix = []\n",
    "for v in y_train:\n",
    "    if v[1] > 0.5:\n",
    "        y_train_for_cmatrix.append(1)\n",
    "    else:\n",
    "        y_train_for_cmatrix.append(0)\n",
    "for v in y_train_pred:\n",
    "    if v[1] > 0.5:\n",
    "        y_train_preds_for_cmatrix.append(1)\n",
    "    else:\n",
    "        y_train_preds_for_cmatrix.append(0)\n",
    "\n",
    "        \n",
    "confusion_mtx = confusion_matrix(y_train_for_cmatrix, y_train_preds_for_cmatrix)\n",
    "plt.figure(figsize=(10,8))\n",
    "sns.heatmap(confusion_mtx, xticklabels=list(['Ok','Default']), yticklabels=list(['Ok','Default']),annot=True, cmap='Blues')\n",
    "plt.xlabel('True labels')\n",
    "plt.ylabel('Predicted labels')\n",
    "plt.show()"
   ]
  },
  {
   "cell_type": "code",
   "execution_count": 49,
   "id": "c0f17360",
   "metadata": {
    "execution": {
     "iopub.execute_input": "2021-11-19T17:20:42.493929Z",
     "iopub.status.busy": "2021-11-19T17:20:42.492859Z",
     "iopub.status.idle": "2021-11-19T17:20:43.230309Z",
     "shell.execute_reply": "2021-11-19T17:20:43.230812Z",
     "shell.execute_reply.started": "2021-11-19T17:03:11.370580Z"
    },
    "papermill": {
     "duration": 1.92792,
     "end_time": "2021-11-19T17:20:43.230988",
     "exception": false,
     "start_time": "2021-11-19T17:20:41.303068",
     "status": "completed"
    },
    "tags": []
   },
   "outputs": [
    {
     "data": {
      "image/png": "[encoded data removed]",
      "text/plain": [
       "<Figure size 720x576 with 2 Axes>"
      ]
     },
     "metadata": {
      "needs_background": "light"
     },
     "output_type": "display_data"
    }
   ],
   "source": [
    "# plot confusion matrix train TEST\n",
    "\n",
    "y_test_for_cmatrix = []\n",
    "y_test_preds_for_cmatrix = []\n",
    "for v in y_test:\n",
    "    if v[1] > 0.5:\n",
    "        y_test_for_cmatrix.append(1)\n",
    "    else:\n",
    "        y_test_for_cmatrix.append(0)\n",
    "for v in y_test_pred:\n",
    "    if v[1] > 0.5:\n",
    "        y_test_preds_for_cmatrix.append(1)\n",
    "    else:\n",
    "        y_test_preds_for_cmatrix.append(0)\n",
    "\n",
    "        \n",
    "confusion_mtx = confusion_matrix(y_test_for_cmatrix, y_test_preds_for_cmatrix)\n",
    "plt.figure(figsize=(10,8))\n",
    "sns.heatmap(confusion_mtx, xticklabels=list(['Ok','Default']), yticklabels=list(['Ok','Default']),annot=True, cmap='Blues')\n",
    "plt.xlabel('True labels')\n",
    "plt.ylabel('Predicted labels')\n",
    "plt.show()"
   ]
  },
  {
   "cell_type": "code",
   "execution_count": 50,
   "id": "d76d481a",
   "metadata": {
    "execution": {
     "iopub.execute_input": "2021-11-19T17:20:45.592664Z",
     "iopub.status.busy": "2021-11-19T17:20:45.591640Z",
     "iopub.status.idle": "2021-11-19T17:20:46.268538Z",
     "shell.execute_reply": "2021-11-19T17:20:46.269242Z",
     "shell.execute_reply.started": "2021-11-19T17:03:12.111449Z"
    },
    "papermill": {
     "duration": 1.85819,
     "end_time": "2021-11-19T17:20:46.269427",
     "exception": false,
     "start_time": "2021-11-19T17:20:44.411237",
     "status": "completed"
    },
    "tags": []
   },
   "outputs": [
    {
     "data": {
      "image/png": "[encoded data removed]",
      "text/plain": [
       "<Figure size 720x576 with 2 Axes>"
      ]
     },
     "metadata": {
      "needs_background": "light"
     },
     "output_type": "display_data"
    }
   ],
   "source": [
    "# plot confusion matrix train VALIDATION (data never seen by the algorithm)\n",
    "\n",
    "y_valid_for_cmatrix = []\n",
    "y_valid_preds_for_cmatrix = []\n",
    "for v in y_valid_pred:\n",
    "    if v[1] > 0.5:\n",
    "        y_valid_preds_for_cmatrix.append(1)\n",
    "    else:\n",
    "        y_valid_preds_for_cmatrix.append(0)\n",
    "for v in y_valid:\n",
    "    if v[1] > 0.5:\n",
    "        y_valid_for_cmatrix.append(1)\n",
    "    else:\n",
    "        y_valid_for_cmatrix.append(0)\n",
    "        \n",
    "confusion_mtx = confusion_matrix(y_valid_for_cmatrix,y_valid_preds_for_cmatrix)\n",
    "plt.figure(figsize=(10,8))\n",
    "sns.heatmap(confusion_mtx, xticklabels=list(['Ok','Default']), yticklabels=list(['Ok','Default']),annot=True, cmap='Blues')\n",
    "plt.xlabel('True labels')\n",
    "plt.ylabel('Predicted labels')\n",
    "plt.show()"
   ]
  },
  {
   "cell_type": "code",
   "execution_count": 51,
   "id": "fa73b145",
   "metadata": {
    "execution": {
     "iopub.execute_input": "2021-11-19T17:20:48.701009Z",
     "iopub.status.busy": "2021-11-19T17:20:48.699981Z",
     "iopub.status.idle": "2021-11-19T17:20:49.673613Z",
     "shell.execute_reply": "2021-11-19T17:20:49.672987Z",
     "shell.execute_reply.started": "2021-11-19T17:03:12.790003Z"
    },
    "papermill": {
     "duration": 2.155126,
     "end_time": "2021-11-19T17:20:49.673768",
     "exception": false,
     "start_time": "2021-11-19T17:20:47.518642",
     "status": "completed"
    },
    "tags": []
   },
   "outputs": [
    {
     "name": "stdout",
     "output_type": "stream",
     "text": [
      "0.9994000953273179 0.999400395902979\n",
      "0.9788119343457585 0.979235958434335\n",
      "0.9798895536125173 0.9802646434539132\n"
     ]
    }
   ],
   "source": [
    "# print accuracy and f1 score for training data\n",
    "print(accuracy_score(y_train_for_cmatrix, y_train_preds_for_cmatrix), f1_score(y_train_for_cmatrix, y_train_preds_for_cmatrix))\n",
    "# print accuracy and f1 score for test data\n",
    "print(accuracy_score(y_test_for_cmatrix, y_test_preds_for_cmatrix), f1_score(y_test_for_cmatrix, y_test_preds_for_cmatrix))\n",
    "# print accuracy and f1 score for validation data\n",
    "print(accuracy_score(y_valid_for_cmatrix, y_valid_preds_for_cmatrix), f1_score(y_valid_for_cmatrix, y_valid_preds_for_cmatrix))"
   ]
  },
  {
   "cell_type": "code",
   "execution_count": null,
   "id": "6c296fe4",
   "metadata": {
    "papermill": {
     "duration": 1.179169,
     "end_time": "2021-11-19T17:20:52.028451",
     "exception": false,
     "start_time": "2021-11-19T17:20:50.849282",
     "status": "completed"
    },
    "tags": []
   },
   "outputs": [],
   "source": []
  },
  {
   "cell_type": "markdown",
   "id": "ad313c86",
   "metadata": {
    "papermill": {
     "duration": 1.180641,
     "end_time": "2021-11-19T17:20:54.385833",
     "exception": false,
     "start_time": "2021-11-19T17:20:53.205192",
     "status": "completed"
    },
    "tags": []
   },
   "source": [
    "COMMENTS\n",
    "This is a base notebook (no tuning, very basic feature engineering\n",
    "Confusion matrix is quite balanced, but the\n",
    "behavior of this model for False Negative (risk of default predicted as fine) is worst than False positive ( no risk predicted as default).\n",
    "To be improved."
   ]
  }
 ],
 "metadata": {
  "kernelspec": {
   "display_name": "Python 3",
   "language": "python",
   "name": "python3"
  },
  "language_info": {
   "codemirror_mode": {
    "name": "ipython",
    "version": 3
   },
   "file_extension": ".py",
   "mimetype": "text/x-python",
   "name": "python",
   "nbconvert_exporter": "python",
   "pygments_lexer": "ipython3",
   "version": "3.7.10"
  },
  "papermill": {
   "default_parameters": {},
   "duration": 328.172118,
   "end_time": "2021-11-19T17:20:59.163353",
   "environment_variables": {},
   "exception": null,
   "input_path": "__notebook__.ipynb",
   "output_path": "__notebook__.ipynb",
   "parameters": {},
   "start_time": "2021-11-19T17:15:30.991235",
   "version": "2.3.3"
  }
 },
 "nbformat": 4,
 "nbformat_minor": 5
}
